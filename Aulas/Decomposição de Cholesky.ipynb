{
 "cells": [
  {
   "cell_type": "code",
   "execution_count": 18,
   "id": "5d08f26c",
   "metadata": {},
   "outputs": [],
   "source": [
    "import numpy as np\n",
    "import math\n",
    "\n",
    "def decomposicao_cholesky(matriz_a):\n",
    "    \"\"\"\n",
    "    Realiza a decomposição de Cholesky em uma matriz simétrica e positiva definida\n",
    "    e retorna a matriz triangular inferior L formatada como uma string.\n",
    "\n",
    "    Parâmetros:\n",
    "    matriz_a (list of lists): A matriz quadrada de entrada.\n",
    "\n",
    "    Retorna:\n",
    "    str: A matriz triangular inferior L formatada como uma string,\n",
    "         ou uma mensagem de erro se a decomposição não for possível.\n",
    "    \"\"\"\n",
    "    tamanho_n = len(matriz_a)\n",
    "    \n",
    "    # Verifica se a matriz é quadrada\n",
    "    for linha in matriz_a:\n",
    "        if len(linha) != tamanho_n:\n",
    "            return \"Erro: A matriz de entrada deve ser quadrada.\"\n",
    "\n",
    "    matriz_l = [[0.0] * tamanho_n for _ in range(tamanho_n)]\n",
    "\n",
    "    \n",
    "    for coluna_j in range(tamanho_n):  # \n",
    "        soma_quadrados_anteriores = sum(matriz_l[coluna_j][k]**2 for k in range(coluna_j))\n",
    "            \n",
    "        valor_sob_raiz = matriz_a[coluna_j][coluna_j] - soma_quadrados_anteriores\n",
    "        if valor_sob_raiz <= 0:\n",
    "            return (f\"Erro: A matriz não é positiva definida. \"\n",
    "                    f\"Falha na decomposição de Cholesky no elemento diagonal L[{coluna_j}][{coluna_j}]. \"\n",
    "                    f\"Valor sob a raiz: {valor_sob_raiz:.4f}\")\n",
    "            \n",
    "        matriz_l[coluna_j][coluna_j] = math.sqrt(valor_sob_raiz)\n",
    "\n",
    "        for linha_i in range(coluna_j + 1, tamanho_n):\n",
    "            soma_produtos_anteriores = sum(matriz_l[linha_i][k] * matriz_l[coluna_j][k] for k in range(coluna_j))\n",
    "                \n",
    "            if matriz_l[coluna_j][coluna_j] == 0:\n",
    "                    return (f\"Erro: Divisão por zero em L[{linha_i}][{coluna_j}]. \"\n",
    "                            f\"A matriz pode não ser positiva definida ou há um problema numérico.\")\n",
    "                \n",
    "            matriz_l[linha_i][coluna_j] = (matriz_a[linha_i][coluna_j] - soma_produtos_anteriores) / matriz_l[coluna_j][coluna_j]\n",
    "\n",
    "    saida_formatada = \"Matriz L (Decomposição de Cholesky):\\n\"\n",
    "    for linha_matriz_l in matriz_l:\n",
    "        linha_formatada = [f\"{x}\" for x in linha_matriz_l] # Formata cada número para 2 casas decimais\n",
    "        saida_formatada += \"[\" + \", \".join(linha_formatada) + \"]\\n\"\n",
    "            \n",
    "    return saida_formatada"
   ]
  },
  {
   "cell_type": "code",
   "execution_count": 19,
   "id": "8af2ef0f",
   "metadata": {},
   "outputs": [
    {
     "name": "stdout",
     "output_type": "stream",
     "text": [
      "--- Exemplo 1: Matriz Válida ---\n",
      "Matriz L (Decomposição de Cholesky):\n",
      "[2.0, 0.0, 0.0]\n",
      "[6.0, 1.0, 0.0]\n",
      "[-8.0, 5.0, 3.0]\n",
      "\n",
      "Matriz L (Decomposição de Cholesky):\n",
      "[2.0, 0.0, 0.0]\n",
      "[6.0, 1.0, 0.0]\n",
      "[-8.0, 5.0, 3.0]\n",
      "\n"
     ]
    }
   ],
   "source": [
    "# --- Exemplos de uso ---\n",
    "\n",
    "# Exemplo de uma matriz válida\n",
    "A_valid = [[4, 12, -16],\n",
    "           [12, 37, -43],\n",
    "           [-16, -43, 98]]\n",
    "\n",
    "print(\"--- Exemplo 1: Matriz Válida ---\")\n",
    "print(decomposicao_cholesky(A_valid))\n",
    "\n",
    "L = np.array(decomposicao_cholesky(A_valid))\n",
    "print(L.T)"
   ]
  },
  {
   "cell_type": "code",
   "execution_count": 20,
   "id": "c3440c62",
   "metadata": {},
   "outputs": [
    {
     "name": "stdout",
     "output_type": "stream",
     "text": [
      "Matriz L (Decomposição de Cholesky):\n",
      "[3.0, 0.0, 0.0, 0.0]\n",
      "[2.0, 4.0, 0.0, 0.0]\n",
      "[-1.0, 1.0, 2.0, 0.0]\n",
      "[1.0, 5.0, -1.0, 1.0]\n",
      "\n"
     ]
    }
   ],
   "source": [
    "exemplo = [[9, 6, -3, 3], [6, 20, 2, 22], [-3, 2, 6, 2], [3, 22, 2, 28]]\n",
    "\n",
    "print(decomposicao_cholesky(exemplo))"
   ]
  }
 ],
 "metadata": {
  "kernelspec": {
   "display_name": "Python 3",
   "language": "python",
   "name": "python3"
  },
  "language_info": {
   "codemirror_mode": {
    "name": "ipython",
    "version": 3
   },
   "file_extension": ".py",
   "mimetype": "text/x-python",
   "name": "python",
   "nbconvert_exporter": "python",
   "pygments_lexer": "ipython3",
   "version": "3.13.1"
  }
 },
 "nbformat": 4,
 "nbformat_minor": 5
}
