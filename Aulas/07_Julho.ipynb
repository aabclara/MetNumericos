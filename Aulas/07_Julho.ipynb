{
 "cells": [
  {
   "cell_type": "markdown",
   "metadata": {},
   "source": [
    "*Aluna:* Maria Clara Miguel Claudino  \n",
    "*Disciplina*: Métodos Numéricos"
   ]
  },
  {
   "cell_type": "markdown",
   "metadata": {},
   "source": [
    "### Decomposição LU"
   ]
  },
  {
   "cell_type": "markdown",
   "metadata": {},
   "source": [
    "1) Mostre o passo a passo da obtenção da matriz triangular inferior no processo de decomposição LU para a matriz mostrada no quadro."
   ]
  },
  {
   "cell_type": "markdown",
   "metadata": {},
   "source": [
    "A Decomposição LU é um método para quebrar uma matriz $A$ em duas: uma matriz $L$ (triangular inferior) e uma matriz $U$ (triangular superior), de forma que:  \n",
    "$A = LU$.\n",
    "\n",
    "Primeiro, fazemos a eliminação Gaussiana na matriz $A$ pra transformá-la na matriz $U$.  \n",
    "Os \"multiplicadores\" que usamos para zerar os elementos abaixo da diagonal (os $l_{ij}$) são guardados e formam a matriz $L$.  \n",
    "A matriz $L$ tem 1s na diagonal principal.  \n",
    "\n",
    "Tendo $L$ e $U$, resolver $Ax=b$ vira duas etapas:  \n",
    "- Primeiro, resolve $Ly = b$ (facil, porque $L$ é triangular inferior - substituição pra frente).  \n",
    "    - Depois, resolve $Ux = y$ (facil, porque $U$ é triangular superior - substituição pra trás).  \n",
    "\n",
    "O $x$ que sai no final é a solução do sistema."
   ]
  },
  {
   "cell_type": "markdown",
   "metadata": {},
   "source": [
    "2) Construa uma função em Python que faça a decomposição LU de uma dada matriz."
   ]
  },
  {
   "cell_type": "code",
   "execution_count": 2,
   "metadata": {},
   "outputs": [],
   "source": [
    "import numpy as np\n",
    "\n",
    "def resolver_sistema_linear_lu(matriz_a, vetor_b):\n",
    "\n",
    "    dimensao = matriz_a.shape[0]\n",
    "\n",
    "    if matriz_a.shape[1] != dimensao:\n",
    "        print(\"Erro: A matriz deve ser quadrada.\")\n",
    "        return None\n",
    "    if vetor_b.shape[0] != dimensao:\n",
    "        print(\"Erro: O tamanho do vetor b deve ser igual à dimensão da matriz.\")\n",
    "        return None\n",
    "\n",
    "    matriz_l = np.eye(dimensao, dtype=float)\n",
    "    matriz_u = np.copy(matriz_a).astype(float)\n",
    "\n",
    "    for coluna_pivo in range(dimensao):\n",
    "        if matriz_u[coluna_pivo, coluna_pivo] == 0:\n",
    "            print(f\"Aviso: Elemento pivô U[{coluna_pivo},{coluna_pivo}] é zero. \"\n",
    "                  \"Decomposição LU pode não ser possível sem pivoteamento.\")\n",
    "            return None\n",
    "        for linha_atual in range(coluna_pivo + 1, dimensao):\n",
    "            multiplicador = matriz_u[linha_atual, coluna_pivo] / matriz_u[coluna_pivo, coluna_pivo]\n",
    "            matriz_l[linha_atual, coluna_pivo] = multiplicador\n",
    "            matriz_u[linha_atual, coluna_pivo:] -= multiplicador * matriz_u[coluna_pivo, coluna_pivo:]\n",
    "    \n",
    "    print(\"Matriz Triangular Inferior L:\")\n",
    "    print(matriz_l)\n",
    "    print(\"\\nMatriz Triangular Superior U:\")\n",
    "    print(matriz_u)\n",
    "\n",
    "    vetor_y = np.zeros(dimensao, dtype=float)\n",
    "    for i in range(dimensao):\n",
    "        vetor_y[i] = (vetor_b[i] - np.dot(matriz_l[i, :i], vetor_y[:i])) / matriz_l[i, i]\n",
    "\n",
    "    vetor_x = np.zeros(dimensao, dtype=float)\n",
    "    for i in range(dimensao - 1, -1, -1):\n",
    "        if matriz_u[i, i] == 0:\n",
    "            print(f\"Aviso: Elemento pivô U[{i},{i}] é zero durante a substituição regressiva. \"\n",
    "                  \"Sistema pode ter múltiplas soluções ou nenhuma.\")\n",
    "            return None\n",
    "        vetor_x[i] = (vetor_y[i] - np.dot(matriz_u[i, i+1:], vetor_x[i+1:])) / matriz_u[i, i]\n",
    "    \n",
    "    print(\"\\nSolução Final\")\n",
    "    print(\"Vetor Solução x:\")\n",
    "    print(vetor_x)\n",
    "    print(\"\\nVerificação A @ x (deve ser aproximadamente b):\")\n",
    "    print(matriz_a @ vetor_x)\n",
    "\n",
    "    return vetor_x"
   ]
  },
  {
   "cell_type": "code",
   "execution_count": 3,
   "metadata": {},
   "outputs": [
    {
     "name": "stdout",
     "output_type": "stream",
     "text": [
      "Matriz Triangular Inferior L:\n",
      "[[1.   0.   0.   0.  ]\n",
      " [0.25 1.   0.   0.  ]\n",
      " [1.25 1.   1.   0.  ]\n",
      " [0.5  0.72 1.1  1.  ]]\n",
      "\n",
      "Matriz Triangular Superior U:\n",
      "[[ 4.   -1.    3.    8.  ]\n",
      " [ 0.    6.25  1.25 -5.  ]\n",
      " [ 0.    0.   -4.   -5.  ]\n",
      " [ 0.    0.    0.    6.1 ]]\n",
      "\n",
      "Solução Final\n",
      "Vetor Solução x:\n",
      "[-2.44262295  3.39344262  3.24590164  5.80327869]\n",
      "\n",
      "Verificação A @ x (deve ser aproximadamente b):\n",
      "[43.  7.  8.  8.]\n"
     ]
    }
   ],
   "source": [
    "A = np.array([\n",
    "    [4, -1, 3, 8],\n",
    "    [1, 6, 2, -3],\n",
    "    [5, 5, 1, 0],\n",
    "    [2, 4, -2, 1]\n",
    "])\n",
    "\n",
    "b = np.array([43, 7, 8, 8])\n",
    "\n",
    "solucao = resolver_sistema_linear_lu(A, b)\n"
   ]
  }
 ],
 "metadata": {
  "kernelspec": {
   "display_name": "Python 3",
   "language": "python",
   "name": "python3"
  },
  "language_info": {
   "codemirror_mode": {
    "name": "ipython",
    "version": 3
   },
   "file_extension": ".py",
   "mimetype": "text/x-python",
   "name": "python",
   "nbconvert_exporter": "python",
   "pygments_lexer": "ipython3",
   "version": "3.13.1"
  }
 },
 "nbformat": 4,
 "nbformat_minor": 2
}
