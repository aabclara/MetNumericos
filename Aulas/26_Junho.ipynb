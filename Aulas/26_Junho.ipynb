{
 "cells": [
  {
   "cell_type": "markdown",
   "metadata": {},
   "source": [
    "### Introdução aos Sistemas Lineares"
   ]
  },
  {
   "cell_type": "markdown",
   "metadata": {},
   "source": [
    "### Sistemas Lineares formados por equações lineares"
   ]
  },
  {
   "cell_type": "markdown",
   "metadata": {},
   "source": [
    "**Métodos de Soluções**:\n",
    "- *Diretos*: A solução exata é obtida com um número finito deoperações (teoricamente)\n",
    "- *Iterativos*: A cada iteração o método se aproxima mais da solução"
   ]
  },
  {
   "cell_type": "code",
   "execution_count": null,
   "metadata": {},
   "outputs": [],
   "source": [
    "import numpy as np\n",
    "\n",
    "def sistemas_triangularesInferior(L, C):\n",
    "    n = L.shape[0]   \n",
    "    x = np.zeros(n) \n",
    "\n",
    "    if L[0, 0] == 0:\n",
    "        raise ValueError(\"Elemento L[0,0] é zero, divisão por zero impossível.\")\n",
    "    x[0] = C[0] / L[0, 0]\n",
    "\n",
    "    for i in range(1, n):\n",
    "        soma = 0\n",
    "        for j in range(i):\n",
    "            soma += L[i, j] * x[j]\n",
    "        if L[i, i] == 0:\n",
    "            raise ValueError(f\"Elemento L[{i},{i}] é zero, divisão por zero impossível.\")\n",
    "        x[i] = (C[i] - soma) / L[i, i]\n",
    "\n",
    "    return x"
   ]
  },
  {
   "cell_type": "code",
   "execution_count": 15,
   "metadata": {},
   "outputs": [
    {
     "name": "stdout",
     "output_type": "stream",
     "text": [
      "A solução do sistema linear é:\n",
      "[ 5.  2. -3.  1.]\n"
     ]
    }
   ],
   "source": [
    "# dados do exemplo \n",
    "L_exemplo = np.array([\n",
    "    [ 3,  0,  0,  0],\n",
    "    [ 2,  5,  0,  0],\n",
    "    [ 1, -7,  4,  0],\n",
    "    [ 5,  3, -4,  8]\n",
    "], dtype=float) \n",
    "\n",
    "C_exemplo = np.array([15, 20, -21, 51], dtype=float)\n",
    "\n",
    "solucao_x = sistemas_triangularesInferior(L_exemplo, C_exemplo)\n",
    "print(\"A solução do sistema linear é:\")\n",
    "print(solucao_x)"
   ]
  },
  {
   "cell_type": "code",
   "execution_count": 29,
   "metadata": {},
   "outputs": [],
   "source": [
    "import numpy as np\n",
    "\n",
    "def sistema_triangular_superior(U, C):\n",
    "    n = U.shape[0]  \n",
    "    x = np.zeros(n) \n",
    "\n",
    "    for i in range(n - 2, -1, -1):\n",
    "        soma = 0\n",
    "\n",
    "        for j in range(i + 1, n):\n",
    "            soma += U[i, j] * x[j]\n",
    "\n",
    "        if U[i, i] == 0:\n",
    "            raise ValueError(f\"Elemento U[{i},{i}] na diagonal é zero, divisão por zero impossível.\")\n",
    "        x[i] = (C[i] - soma) / U[i, i]\n",
    "\n",
    "    return x"
   ]
  },
  {
   "cell_type": "code",
   "execution_count": 31,
   "metadata": {},
   "outputs": [
    {
     "name": "stdout",
     "output_type": "stream",
     "text": [
      "A solução do sistema linear triangular superior (x) é:\n",
      "[ 0.375      -2.5         2.66666667  0.        ]\n"
     ]
    }
   ],
   "source": [
    "U_exemplo2 = np.array([\n",
    "    [4, -1, 3, 2],\n",
    "    [0, 2, 6, 3],\n",
    "    [0, 0, 3, 5],\n",
    "    [0, 0, 0, -2]\n",
    "], dtype=float)\n",
    "\n",
    "C_exemplo2 = np.array([12, 11, 8, 18], dtype=float)\n",
    "\n",
    "solucao2 = sistema_triangular_superior(U_exemplo2, C_exemplo2)\n",
    "print(\"A solução do sistema linear triangular superior (x) é:\")\n",
    "print(solucao2)"
   ]
  }
 ],
 "metadata": {
  "kernelspec": {
   "display_name": "Python 3",
   "language": "python",
   "name": "python3"
  },
  "language_info": {
   "codemirror_mode": {
    "name": "ipython",
    "version": 3
   },
   "file_extension": ".py",
   "mimetype": "text/x-python",
   "name": "python",
   "nbconvert_exporter": "python",
   "pygments_lexer": "ipython3",
   "version": "3.10.12"
  }
 },
 "nbformat": 4,
 "nbformat_minor": 2
}
