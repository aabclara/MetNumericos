{
 "cells": [
  {
   "cell_type": "markdown",
   "id": "9d71f22a",
   "metadata": {},
   "source": [
    "## <center> Aula: 12 de maio de 2025 </center>"
   ]
  },
  {
   "cell_type": "markdown",
   "id": "98e7b0f9",
   "metadata": {},
   "source": [
    "## Ajustes de Curvas"
   ]
  },
  {
   "cell_type": "markdown",
   "id": "edafdad6",
   "metadata": {},
   "source": [
    "Busca encontrar uma função que represente a tendência de um conjunto de dados.\n",
    "\n",
    "-----"
   ]
  },
  {
   "cell_type": "markdown",
   "id": "293d8852",
   "metadata": {},
   "source": [
    "### Regressão Linear Simples"
   ]
  },
  {
   "cell_type": "markdown",
   "id": "4eb6a322",
   "metadata": {},
   "source": [
    "É um tipo de ajuste de curvas que utiliza uma linha reta para modelar a relação entre uma variável independente e uma dependente."
   ]
  },
  {
   "cell_type": "markdown",
   "id": "de80b2d8",
   "metadata": {},
   "source": [
    "**Método dos mínimos quadrados**"
   ]
  },
  {
   "cell_type": "markdown",
   "id": "1f853de0",
   "metadata": {},
   "source": [
    "É usado para encontrar a \"melhor\" reta de ajuste, minimizando a soma dos quadrados das diferenças entre os valores observados e os valores previstos.  \n"
   ]
  },
  {
   "cell_type": "markdown",
   "id": "45ce06b3",
   "metadata": {},
   "source": [
    "- $ R = \\sum^n_{i=1} (y_1 - u_i)^2$\n",
    "    - y são os valores experimentais\n",
    "    - u é o modelo adotado (*dados obtidos*)"
   ]
  },
  {
   "cell_type": "markdown",
   "id": "dc203ed5",
   "metadata": {},
   "source": [
    "- $ u = b_0 + b_1x $\n",
    "    - $b_0$:\n",
    "    - $b_1$:\n"
   ]
  },
  {
   "cell_type": "markdown",
   "id": "776a902f",
   "metadata": {},
   "source": [
    "*Juntando as equações 1 e 2:*\n",
    "\n",
    "$ R = \\sum^n_{i=1}(y_1 - b_0 - b_1x_i)^2$  \n",
    "- onde $x_i$ e $y_1$ são os coordenadas (*dados*)"
   ]
  },
  {
   "cell_type": "markdown",
   "id": "d1579211",
   "metadata": {},
   "source": [
    "**Quero calcular $b_0$ e $b_1$ que minimizem R:**\n",
    "- *Deriva e iguala a 0!*\n",
    "$$\n",
    "\\begin{cases}\n",
    "  \\frac{\\partial R}{\\partial b_0} = 0 \\\\\n",
    "  \\frac{\\partial r}{\\partial b_1} = 0\n",
    "\\end{cases}\n",
    "$$\n",
    "**Regra da Cadeia*\n",
    "$$\\frac{\\partial R}{\\partial b_0} = -2 R = \\sum^n_{i=1}(y_1 - b_0 - b_1x_i)$$  \n",
    "$$\\frac{\\partial R}{\\partial b_2} = -2 R = \\sum^n_{i=1}(y_1 - b_0 - b_1x_i)$$"
   ]
  },
  {
   "cell_type": "markdown",
   "id": "175a4448",
   "metadata": {},
   "source": [
    "<center> Reescrevendo... </center>"
   ]
  },
  {
   "cell_type": "markdown",
   "id": "368c94ba",
   "metadata": {},
   "source": [
    "Para os dados abaixo, ajuste uma reta de mínimos quadrados:\n",
    "\n",
    "| x | y |\n",
    "|---|---|\n",
    "| 4,2 | 1,2 |\n",
    "| 5,1 | 1,3 |\n",
    "| 6,0 | 1,9 |\n",
    "| 7,3 | 2,1 |\n",
    "| 8,1 | 2,6 |\n",
    "| 8,6 | 3,0 |\n",
    "| 9,2 | 3,3 |\n",
    "| 9,8 | 3,4 |"
   ]
  },
  {
   "cell_type": "code",
   "execution_count": 1,
   "id": "a921d48d",
   "metadata": {},
   "outputs": [],
   "source": [
    "import numpy as np\n",
    "import matplotlib.pyplot as plt"
   ]
  },
  {
   "cell_type": "code",
   "execution_count": 6,
   "id": "9f9e2a50",
   "metadata": {},
   "outputs": [
    {
     "name": "stdout",
     "output_type": "stream",
     "text": [
      "Equação da reta: y = 0.42x + -0.72\n"
     ]
    }
   ],
   "source": [
    "import numpy as np\n",
    "import matplotlib.pyplot as plt\n",
    "\n",
    "# dados\n",
    "x = np.array([4.2, 5.1, 6.0, 7.3, 8.1, 8.6, 9.2, 9.8])\n",
    "y = np.array([1.2, 1.3, 1.9, 2.1, 2.6, 3.0, 3.3, 3.4])\n",
    "\n",
    "# somas\n",
    "n = len(x)\n",
    "soma_x = np.sum(x)\n",
    "soma_y = np.sum(y)\n",
    "soma_xy = np.sum(x * y)\n",
    "soma_x2 = np.sum(x ** 2)\n",
    "\n",
    "b0 = (n * soma_xy - soma_x * soma_y) / (n * soma_x2 - soma_x ** 2)\n",
    "b1 = (soma_y - a * soma_x) / n\n",
    "\n",
    "print(f\"Equação da reta: y = {b0:.2f}x + {b1:.2f}\")"
   ]
  },
  {
   "cell_type": "code",
   "execution_count": 7,
   "id": "c7cf1f65",
   "metadata": {},
   "outputs": [
    {
     "data": {
      "image/png": "[encoded data removed]",
      "text/plain": [
       "<Figure size 640x480 with 1 Axes>"
      ]
     },
     "metadata": {},
     "output_type": "display_data"
    }
   ],
   "source": [
    "# Gráfico\n",
    "plt.scatter(x, y, color='blue', label='Pontos')\n",
    "plt.plot(x, a*x + b, color='red', label=f'y = {a:.2f}x + {b:.2f}')\n",
    "plt.xlabel('x')\n",
    "plt.ylabel('y')\n",
    "plt.title('Ajuste de Mínimos Quadrados')\n",
    "plt.legend()\n",
    "plt.grid(True)\n",
    "plt.show()"
   ]
  }
 ],
 "metadata": {
  "kernelspec": {
   "display_name": "Python 3",
   "language": "python",
   "name": "python3"
  },
  "language_info": {
   "codemirror_mode": {
    "name": "ipython",
    "version": 3
   },
   "file_extension": ".py",
   "mimetype": "text/x-python",
   "name": "python",
   "nbconvert_exporter": "python",
   "pygments_lexer": "ipython3",
   "version": "3.13.1"
  }
 },
 "nbformat": 4,
 "nbformat_minor": 5
}
