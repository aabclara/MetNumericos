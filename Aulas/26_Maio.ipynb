{
 "cells": [
  {
   "cell_type": "markdown",
   "metadata": {},
   "source": [
    "## Atidade de 26 de Maio\n",
    "\n",
    "**Aluna**: Maria Clara Miguel Claudino  \n",
    "**Disciplina:** Sistemas de Informação"
   ]
  },
  {
   "cell_type": "markdown",
   "metadata": {},
   "source": [
    "### Função com o método de Interpolação"
   ]
  },
  {
   "cell_type": "code",
   "execution_count": 17,
   "metadata": {},
   "outputs": [],
   "source": [
    "import numpy as np\n",
    "\n",
    "def interpola_polinomial(pontos):\n",
    "    \"\"\"\n",
    "    Calcula os coeficientes do polinômio interpolador para um dado conjunto de pontos.\n",
    "\n",
    "    Args:\n",
    "        pontos (np.array): Uma matriz NumPy onde cada linha representa um ponto (x, y).\n",
    "                           Ex: np.array([[x0, y0], [x1, y1], ..., [xn, yn]])\n",
    "\n",
    "    Returns:\n",
    "        np.array: Um array NumPy contendo os coeficientes do polinômio,\n",
    "                  em ordem crescente de potência (a0, a1, a2, ... an-1),\n",
    "                  onde o polinômio é P(x) = a0 + a1*x + a2*x^2 + ... + an-1*x^(n-1).\n",
    "                  Retorna um array vazio se houver menos de um ponto.\n",
    "    \"\"\"\n",
    "    num_pontos = pontos.shape[0]\n",
    "\n",
    "    if num_pontos == 0:\n",
    "        return np.array([])\n",
    "    elif num_pontos == 1:\n",
    "        return np.array([pontos[0, 1]])\n",
    "\n",
    "    x = pontos[:, 0]\n",
    "    y = pontos[:, 1]\n",
    "\n",
    "    matriz_vandermonde = np.vander(x, num_pontos, increasing=True)\n",
    "\n",
    "    coeficientes = np.linalg.solve(matriz_vandermonde, y)\n",
    "\n",
    "    return coeficientes"
   ]
  },
  {
   "cell_type": "markdown",
   "metadata": {},
   "source": [
    "### Encontrando a Interpolação com os pontos fornecidos"
   ]
  },
  {
   "cell_type": "code",
   "execution_count": 18,
   "metadata": {},
   "outputs": [
    {
     "name": "stdout",
     "output_type": "stream",
     "text": [
      "Coeficientes do polinômio interpolador (a0, a1, a2, a3, ...): [ 1.  6. -0. -1.]\n"
     ]
    }
   ],
   "source": [
    "pontos_exemplo = np.array([[0, 1], [1, 6], [2, 5], [3, -8]])\n",
    "\n",
    "coefs = interpola_polinomial(pontos_exemplo)\n",
    "print(\"Coeficientes do polinômio interpolador (a0, a1, a2, a3, ...):\", coefs)\n"
   ]
  },
  {
   "cell_type": "markdown",
   "metadata": {},
   "source": [
    "### Estimando o valor de y no novo polinômio"
   ]
  },
  {
   "cell_type": "code",
   "execution_count": 19,
   "metadata": {},
   "outputs": [],
   "source": [
    "def avaliar_polinomio(x_valor, coefs):\n",
    "    \"\"\"\n",
    "    Avalia o valor de um polinômio em um dado x, usando seus coeficientes.\n",
    "    \"\"\"\n",
    "    if not coefs.size: \n",
    "        return np.nan \n",
    "    resultado = 0\n",
    "    for i, c in enumerate(coefs):\n",
    "        resultado += c * (x_valor ** i)\n",
    "    return resultado"
   ]
  },
  {
   "cell_type": "code",
   "execution_count": 28,
   "metadata": {},
   "outputs": [
    {
     "name": "stdout",
     "output_type": "stream",
     "text": [
      "\n",
      "Verificando os valores nos pontos originais\n",
      "P(0) = 1.00 (Esperado: 1.00)\n",
      "P(1) = 6.00 (Esperado: 6.00)\n",
      "P(2) = 5.00 (Esperado: 5.00)\n",
      "P(3) = -8.00 (Esperado: -8.00)\n",
      "\n",
      "Valor do polinômio em x = 1.5, Valor em y = 6.62\n",
      "Valor do polinômio em x = -0.5, Valor em y = -1.88\n"
     ]
    }
   ],
   "source": [
    "print(\"\\nVerificando os valores nos pontos originais\")\n",
    "for i in range(pontos_exemplo.shape[0]):\n",
    "    x_original = pontos_exemplo[i, 0]\n",
    "    y_original = pontos_exemplo[i, 1]\n",
    "    y_interpolado = avaliar_polinomio(x_original, coefs)\n",
    "    print(f\"P({x_original}) = {y_interpolado:.2f} (Esperado: {y_original:.2f})\")\n",
    "\n",
    "\n",
    "x_novo = 1.5\n",
    "y_novo = avaliar_polinomio(x_novo, coefs)\n",
    "print(f\"\\nValor do polinômio em x = {x_novo}, Valor em y = {y_novo:.2f}\")\n",
    "\n",
    "x_novo_2 = -0.5\n",
    "y_novo_2 = avaliar_polinomio(x_novo_2, coefs)\n",
    "print(f\"Valor do polinômio em x = {x_novo_2}, Valor em y = {y_novo_2:.2f}\")"
   ]
  }
 ],
 "metadata": {
  "kernelspec": {
   "display_name": "Python 3",
   "language": "python",
   "name": "python3"
  },
  "language_info": {
   "codemirror_mode": {
    "name": "ipython",
    "version": 3
   },
   "file_extension": ".py",
   "mimetype": "text/x-python",
   "name": "python",
   "nbconvert_exporter": "python",
   "pygments_lexer": "ipython3",
   "version": "3.10.12"
  }
 },
 "nbformat": 4,
 "nbformat_minor": 2
}
