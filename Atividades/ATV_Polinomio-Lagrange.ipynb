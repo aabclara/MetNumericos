{
 "cells": [
  {
   "cell_type": "markdown",
   "id": "0d6d24c7",
   "metadata": {},
   "source": [
    "### *EXERCÍCIO* - 09 de Junho\n",
    "**Aluna:** Maria Clara Miguel Claudino  \n",
    "**Disciplina:** Métodos Numéricos"
   ]
  },
  {
   "cell_type": "code",
   "execution_count": null,
   "id": "629dbee0",
   "metadata": {},
   "outputs": [],
   "source": [
    "import numpy as np\n",
    "\n",
    "def polinomio_lagrange(coordenadas_x, coordenadas_y, x):\n",
    "    array_coordenadas_x = np.asarray(coordenadas_x, dtype=float)\n",
    "    array_coordenadas_y = np.asarray(coordenadas_y, dtype=float)\n",
    "\n",
    "    num_pontos = len(array_coordenadas_x)\n",
    "\n",
    "    if num_pontos != len(array_coordenadas_y):\n",
    "        raise ValueError(\"O número de coordenadas x e y deve ser o mesmo.\")\n",
    "\n",
    "    if len(np.unique(array_coordenadas_x)) != num_pontos:\n",
    "        raise ValueError(\"Os valores de x das coordenadas devem ser distintos para a interpolação de Lagrange.\")\n",
    "\n",
    "    valor_polinomio_lagrange = 0.0  \n",
    "\n",
    "    for i in range(num_pontos):\n",
    "        termo_produtorio = 1.0\n",
    "\n",
    "        for j in range(num_pontos):\n",
    "            if i != j:  \n",
    "                termo_atual = (x - array_coordenadas_x[j]) / \\\n",
    "                              (array_coordenadas_x[i] - array_coordenadas_x[j])\n",
    "                termo_produtorio *= termo_atual\n",
    "        \n",
    "        valor_polinomio_lagrange += array_coordenadas_y[i] * termo_produtorio\n",
    "\n",
    "    return valor_polinomio_lagrange"
   ]
  },
  {
   "cell_type": "code",
   "execution_count": 12,
   "id": "024fe4ce",
   "metadata": {},
   "outputs": [
    {
     "name": "stdout",
     "output_type": "stream",
     "text": [
      "Polinômio de Lagrange dos pontos da tabela 1 avaliados em 0.2: 1.641\n",
      "Polinômio de Lagrange dos pontos da tabela 2 avaliados em 0.2: 1.414\n"
     ]
    }
   ],
   "source": [
    "# Dados da primeira tabela\n",
    "\n",
    "x = [0.1, 0.6]\n",
    "y = [1.221, 3.32]\n",
    "\n",
    "resultado1 = polinomio_lagrange(x, y, 0.2)\n",
    "print(f\"Polinômio de Lagrange dos pontos da tabela 1 avaliados em 0.2: {resultado1:.3f}\")\n",
    "\n",
    "# Dados da segunda tabela\n",
    "\n",
    "x2 = [0.1, 0.6, 0.8]\n",
    "y2 = [1.221, 3.32, 4.953]\n",
    "\n",
    "resultado2 = polinomio_lagrange(x2, y2, 0.2)\n",
    "print(f\"Polinômio de Lagrange dos pontos da tabela 2 avaliados em 0.2: {resultado2:.3f}\")"
   ]
  }
 ],
 "metadata": {
  "kernelspec": {
   "display_name": "Python 3",
   "language": "python",
   "name": "python3"
  },
  "language_info": {
   "codemirror_mode": {
    "name": "ipython",
    "version": 3
   },
   "file_extension": ".py",
   "mimetype": "text/x-python",
   "name": "python",
   "nbconvert_exporter": "python",
   "pygments_lexer": "ipython3",
   "version": "3.13.1"
  }
 },
 "nbformat": 4,
 "nbformat_minor": 5
}
