{
 "cells": [
  {
   "cell_type": "markdown",
   "metadata": {},
   "source": [
    "## ATIVIDADE - 22 de Maio\n",
    "**Aluna:** Maria Clara Miguel  \n",
    "**Disciplina:** Métodos Numéricos"
   ]
  },
  {
   "cell_type": "code",
   "execution_count": 16,
   "metadata": {},
   "outputs": [],
   "source": [
    "import numpy as np\n",
    "import matplotlib as plt"
   ]
  },
  {
   "cell_type": "markdown",
   "metadata": {},
   "source": [
    "Gerando a função..."
   ]
  },
  {
   "cell_type": "code",
   "execution_count": 24,
   "metadata": {},
   "outputs": [],
   "source": [
    "def multiplaRegressaoLinear(X, y):\n",
    "\n",
    "    X_b = np.c_[np.ones(X.shape[0]), X]\n",
    "\n",
    "    try:\n",
    "        coef = np.linalg.inv(X_b.T @ X_b) @ X_b.T @ y\n",
    "    except np.linalg.LinAlgError:\n",
    "        print(\"Erro: A matriz X.T @ X é singular. Não é possível calcular a inversa.\")\n",
    "        print(\"Isso pode ocorrer se houver multicolinearidade perfeita nas variáveis independentes.\")\n",
    "        return None, None\n",
    "\n",
    "    Ypred = X_b @ coef\n",
    "\n",
    "    R_ss = np.sum((y - Ypred)**2)\n",
    "\n",
    "    Ymedia = np.mean(y)\n",
    "    total_ss = np.sum((y - Ymedia)**2)\n",
    "\n",
    "    if total_ss == 0:\n",
    "        Rquadrado = 1.0 if R_ss == 0 else 0.0 \n",
    "    else:\n",
    "        Rquadrado = 1 - (R_ss / total_ss)\n",
    "\n",
    "    return coef, Rquadrado"
   ]
  },
  {
   "cell_type": "markdown",
   "metadata": {},
   "source": [
    "Aplicando os dados..."
   ]
  },
  {
   "cell_type": "code",
   "execution_count": 25,
   "metadata": {},
   "outputs": [
    {
     "name": "stdout",
     "output_type": "stream",
     "text": [
      "Coeficientes do modelo (b0, b1, b2, ...): [ 9.92783505 -0.13402062  3.30927835]\n",
      "Coeficiente de Determinação (R-quadrado): 0.9930454595129835\n",
      "\n",
      "O modelo de regressão é: y = 9.9278 + -0.1340*x1 + 3.3093*x2\n",
      "Previsão para x1=2, x2=6: 29.52\n"
     ]
    }
   ],
   "source": [
    "X_dados = np.array([\n",
    "    [-3, 1],\n",
    "    [-2, 2],\n",
    "    [0, 4],\n",
    "    [1, 5],\n",
    "    [3, 8],\n",
    "    [5, 9]\n",
    "])\n",
    "\n",
    "Y_dados = np.array([13, 18, 22, 27, 36, 39])\n",
    "\n",
    "b_coef, Rquadrado = multiplaRegressaoLinear(X_dados, Y_dados)\n",
    "\n",
    "if b_coef is not None:\n",
    "    print(f\"Coeficientes do modelo (b0, b1, b2, ...): {b_coef}\")\n",
    "    print(f\"Coeficiente de Determinação (R-quadrado): {Rquadrado}\")\n",
    "\n",
    "    print(f\"\\nO modelo de regressão é: y = {b_coef[0]:.4f} + {b_coef[1]:.4f}*x1 + {b_coef[2]:.4f}*x2\")\n",
    "\n",
    "    X_novo = np.array([1, 2, 6]) \n",
    "    Ypred_novo = np.dot(X_novo, b_coef)\n",
    "    print(f\"Previsão para x1=2, x2=6: {Ypred_novo:.2f}\")"
   ]
  }
 ],
 "metadata": {
  "kernelspec": {
   "display_name": "Python 3",
   "language": "python",
   "name": "python3"
  },
  "language_info": {
   "codemirror_mode": {
    "name": "ipython",
    "version": 3
   },
   "file_extension": ".py",
   "mimetype": "text/x-python",
   "name": "python",
   "nbconvert_exporter": "python",
   "pygments_lexer": "ipython3",
   "version": "3.10.12"
  }
 },
 "nbformat": 4,
 "nbformat_minor": 2
}
