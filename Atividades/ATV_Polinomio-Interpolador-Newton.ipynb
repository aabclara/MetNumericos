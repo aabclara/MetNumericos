{
 "cells": [
  {
   "cell_type": "markdown",
   "metadata": {},
   "source": [
    "### 12 de Junho\n",
    "\n",
    "**Aluna:** Maria Clara Miguel Claudino  \n",
    "**Disciplina:** Métodos Numéricos Computacionais\n"
   ]
  },
  {
   "cell_type": "code",
   "execution_count": 1,
   "metadata": {},
   "outputs": [],
   "source": [
    "import numpy as np"
   ]
  },
  {
   "cell_type": "code",
   "execution_count": 16,
   "metadata": {},
   "outputs": [],
   "source": [
    "x = np.array([0.0, 0.2, 0.3, 0.5, 0.7, 1.0])\n",
    "y = np.array([3.000, 2.760, 2.655, 2.625, 3.035, 5.0])"
   ]
  },
  {
   "cell_type": "code",
   "execution_count": 26,
   "metadata": {},
   "outputs": [
    {
     "name": "stdout",
     "output_type": "stream",
     "text": [
      "Tabela de Diferenças Divididas Completa:\n",
      "  3.000  -1.200   0.500   5.000  -0.000   0.000\n",
      "  2.760  -1.050   3.000   5.000  -0.000     X  \n",
      "  2.655  -0.150   5.500   5.000     X       X  \n",
      "  2.625   2.050   9.000     X       X       X  \n",
      "  3.035   6.550     X       X       X       X  \n",
      "  5.000     X       X       X       X       X  \n"
     ]
    }
   ],
   "source": [
    "import numpy as np\n",
    "\n",
    "def diferencas_divididas(pontos_x, valores_y):\n",
    "    n = len(pontos_x)\n",
    "    if n != len(valores_y):\n",
    "        raise ValueError(\"Os arrays 'pontos_x' e 'valores_y' devem ter o mesmo tamanho.\")\n",
    "\n",
    "    diferencas = np.full((n, n), np.nan)\n",
    "    \n",
    "    diferencas[:, 0] = valores_y\n",
    "\n",
    "\n",
    "    for j in range(1, n):  \n",
    "        for i in range(n - j):  \n",
    "            diferencas[i, j] = (diferencas[i + 1, j - 1] - diferencas[i, j - 1]) / \\\n",
    "                                      (pontos_x[i + j] - pontos_x[i])\n",
    "    return diferencas\n",
    "\n",
    "resultados = diferencas_divididas(x, y)\n",
    "\n",
    "print(\"Tabela de Diferenças Divididas Completa:\")\n",
    "for linha in resultados:\n",
    "    linha_formatada = []\n",
    "    for elemento in linha:\n",
    "        if np.isnan(elemento):\n",
    "            linha_formatada.append(\"    X  \") \n",
    "        else:\n",
    "            linha_formatada.append(f\"{elemento:7.3f}\")\n",
    "    print(\" \".join(linha_formatada))\n",
    "\n",
    "#print(\"\\nVerificando os valores do quadro:\")\n",
    "#print(f\"D^1 y_0 (0.2): {resultados[0, 1]:.2f}\")\n",
    "#print(f\"D^1 y_1 (0.3): {resultados[1, 1]:.2f}\")\n",
    "#print(f\"D^1 y_2 (0.5): {resultados[2, 1]:.2f}\")\n",
    "#print(f\"D^1 y_3 (0.7): {resultados[3, 1]:.2f}\")\n",
    "#print(f\"D^1 y_4 (1.0): {resultados[4, 1]:.2f}\")\n",
    "\n",
    "#print(f\"\\nD^2 y_0 (0.5): {resultados[0, 2]:.2f}\")\n",
    "#print(f\"D^2 y_1 (-0.15): {resultados[1, 2]:.2f}\")"
   ]
  }
 ],
 "metadata": {
  "kernelspec": {
   "display_name": "Python 3",
   "language": "python",
   "name": "python3"
  },
  "language_info": {
   "codemirror_mode": {
    "name": "ipython",
    "version": 3
   },
   "file_extension": ".py",
   "mimetype": "text/x-python",
   "name": "python",
   "nbconvert_exporter": "python",
   "pygments_lexer": "ipython3",
   "version": "3.10.12"
  }
 },
 "nbformat": 4,
 "nbformat_minor": 2
}
