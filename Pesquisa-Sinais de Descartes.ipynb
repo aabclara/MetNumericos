{
 "cells": [
  {
   "cell_type": "markdown",
   "id": "3e1ff27a",
   "metadata": {},
   "source": [
    "<p align=\"center\"><font size=\"6\"><strong>Regra dos Sinais de Descartes</strong></font></p>"
   ]
  },
  {
   "cell_type": "markdown",
   "id": "f84a5082",
   "metadata": {},
   "source": [
    "É um método utilizado para estimar o número de raízes reais positivas e negativas de **um** polinômio, analisando as variações de sinal entre os seus coeficientes."
   ]
  },
  {
   "cell_type": "markdown",
   "id": "48efe655",
   "metadata": {},
   "source": [
    "#### *Como funciona?*\n",
    "- Em *raízes positivas*:\n",
    "    Conte o número de vezes que ocorre uma mudança de sinal (de positivo para negativo ou vice-versa) na sequência dos coeficientes do polinômio. Esse número indica a quantidade máxima de raízes reais positivas, ou então um valor menor que ele, diminuído de um múltiplo de 2.\n",
    "\n",
    "- Em *raízes negativas*:\n",
    "    Substitua $x$ por $−x$ no polinômio e conte novamente as variações de sinal. \n",
    "    O resultado fornece o número máximo de raízes reais negativas, ou um valor menor, diminuído de um múltiplo de 2."
   ]
  },
  {
   "cell_type": "markdown",
   "id": "84453425",
   "metadata": {},
   "source": [
    "#### *Observações*\n",
    "- A regra não determina exatamente o número de raízes, mas fornece possibilidades.\n",
    "- Não identifica raízes complexas nem múltiplas.\n",
    "- É uma ferramenta útil para análise inicial de polinômios.\n",
    "- Se precisar de exemplos, posso fornecer também!"
   ]
  },
  {
   "cell_type": "markdown",
   "id": "3b739095",
   "metadata": {},
   "source": [
    "#### ***Exemplo:***\n",
    "Polinômio:\n",
    "    $x^3-6x^2+11x-6$\n",
    "- Coeficientes: $1, -6, 11, -6$\n",
    "\n",
    "**Raízes Positivas:**\n",
    "- Sequência de sinais: +, -, +, -\n",
    "- Variações de sinal: 3<br>\n",
    "*Conclusão:* O número máximo de raízes positivas é **3 ou 1**.<br>\n",
    "(*Sempre diminuindo de 2 em 2.*)\n",
    "\n",
    "**Raízes Negativas:**\n",
    "- Substituímos $x$ por $-x$:<br>\n",
    "    - $(-x)^3-6(-x)^2+11(-x)-6$ <br>\n",
    "        -  = $-x^3-6x^2-11x-6$\n",
    "    - Coeficientes: $-1, -6,-11, -6$\n",
    "\n",
    "- Sequência de sinais: -, -, -, -\n",
    "- Variações de sinal: 0<br>\n",
    "*Conclusão:* O polinômio não possuí raízes negativas."
   ]
  },
  {
   "cell_type": "markdown",
   "id": "ba7f2a87",
   "metadata": {},
   "source": [
    "---"
   ]
  },
  {
   "cell_type": "markdown",
   "id": "4e5ec43d",
   "metadata": {},
   "source": [
    "<p align=\"center\"><font size=\"5\"><strong>Algoritmo da Regra dos Sinais de Descartes</strong></font></p>\n"
   ]
  },
  {
   "cell_type": "markdown",
   "id": "d1c67273",
   "metadata": {},
   "source": [
    "### Com funções separadas:"
   ]
  },
  {
   "cell_type": "code",
   "execution_count": null,
   "id": "865ef141",
   "metadata": {},
   "outputs": [
    {
     "name": "stdout",
     "output_type": "stream",
     "text": [
      "Possíveis raízes positivas: 3\n",
      "Possíveis raízes negativas: 0\n"
     ]
    }
   ],
   "source": [
    "def qntdVarSinal(coeficientes):\n",
    "    # conta as variações de sinal nos coeficientes\n",
    "    variacoes = 0\n",
    "    for i in range(len(coeficientes) - 1):\n",
    "        if coeficientes[i] * coeficientes[i + 1] < 0:\n",
    "            variacoes += 1\n",
    "    return variacoes\n",
    "\n",
    "def variacaoPositivas(coeficientes):\n",
    "    # Calcula as variações de sinal no polinômio original (para raízes positivas)\n",
    "    return qntdVarSinal(coeficientes)\n",
    "\n",
    "def variacaoNegativas(coeficientes):\n",
    "    # Calcula as variações de sinal no polinômio f(-x) (para raízes negativas)\n",
    "    termos_neg = []\n",
    "    grau = len(coeficientes) - 1  # Grau do polinômio\n",
    "    for i in range(len(coeficientes)):\n",
    "        coef = coeficientes[i]\n",
    "        # Inverte o sinal para termos de grau ímpar (substitui x por -x)\n",
    "        if grau % 2 != 0:\n",
    "            coef *= -1\n",
    "        termos_neg.append(coef)\n",
    "        grau -= 1  # Decrementa o grau\n",
    "    return qntdVarSinal(termos_neg)\n",
    "\n",
    "def RegraDescartes(coeficientes):\n",
    "    # Aplica a Regra de Descartes e retorna as possíveis raízes positivas e negativas\n",
    "    positivos = variacaoPositivas(coeficientes)\n",
    "    negativos = variacaoNegativas(coeficientes)\n",
    "    # Formatação da resposta final\n",
    "    return (f\"Possíveis raízes positivas: {positivos}\\n\"\n",
    "            f\"Possíveis raízes negativas: {negativos}\")\n",
    "\n",
    "\n",
    "# Exemplo de uso para o polinomio: x^3 - 6x^2 + 11x - 6\n",
    "coeficientes = [1, -6, 11, -6]  \n",
    "print(RegraDescartes(coeficientes))\n"
   ]
  },
  {
   "cell_type": "markdown",
   "id": "8fa0939e",
   "metadata": {},
   "source": [
    "### Sem funções separadas:"
   ]
  },
  {
   "cell_type": "code",
   "execution_count": 16,
   "id": "1ae424bc",
   "metadata": {},
   "outputs": [
    {
     "name": "stdout",
     "output_type": "stream",
     "text": [
      "Possíveis raízes positivas: 3\n",
      "Possíveis raízes negativas: 0\n"
     ]
    }
   ],
   "source": [
    "def RegraDescartes(coeficientes):\n",
    "    # Variação de sinais para raízes positivas\n",
    "    variacoes_pos = 0\n",
    "    for i in range(len(coeficientes) - 1):\n",
    "        if coeficientes[i] * coeficientes[i + 1] < 0:\n",
    "            variacoes_pos += 1\n",
    "\n",
    "    # Variação de sinais para raízes negativas (substituindo x por -x)\n",
    "    termos_neg = []\n",
    "    grau = len(coeficientes) - 1\n",
    "    for i in range(len(coeficientes)):\n",
    "        coef = coeficientes[i]\n",
    "        # Inverte o sinal para termos de grau ímpar (substitui x por -x)\n",
    "        if grau % 2 != 0:\n",
    "            coef *= -1\n",
    "        termos_neg.append(coef)\n",
    "        grau -= 1\n",
    "\n",
    "    variacoes_neg = 0\n",
    "    for i in range(len(termos_neg) - 1):\n",
    "        if termos_neg[i] * termos_neg[i + 1] < 0:\n",
    "            variacoes_neg += 1\n",
    "\n",
    "    # Retorna as possíveis raízes positivas e negativas\n",
    "    return (f\"Possíveis raízes positivas: {variacoes_pos}\\n\"\n",
    "            f\"Possíveis raízes negativas: {variacoes_neg}\")\n",
    "\n",
    "# Exemplo de uso\n",
    "coeficientes = [1, -6, 11, -6]  # x^3 - 6x^2 + 11x - 6\n",
    "print(RegraDescartes(coeficientes))"
   ]
  }
 ],
 "metadata": {
  "kernelspec": {
   "display_name": "Python 3",
   "language": "python",
   "name": "python3"
  },
  "language_info": {
   "codemirror_mode": {
    "name": "ipython",
    "version": 3
   },
   "file_extension": ".py",
   "mimetype": "text/x-python",
   "name": "python",
   "nbconvert_exporter": "python",
   "pygments_lexer": "ipython3",
   "version": "3.13.1"
  }
 },
 "nbformat": 4,
 "nbformat_minor": 5
}
