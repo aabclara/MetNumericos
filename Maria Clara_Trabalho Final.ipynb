{
 "cells": [
  {
   "cell_type": "markdown",
   "id": "384be082",
   "metadata": {},
   "source": [
    "## TRABALHO AVALIATIVO - MÉTODOS NUMÉRICOS\n",
    "**Aluna:** Maria Clara Miguel Claudino  \n",
    "**Disciplina:** Métodos Numéricos - 2025.1  \n",
    "**Professor:** Paulo Mappa"
   ]
  },
  {
   "cell_type": "markdown",
   "id": "152cc01e",
   "metadata": {},
   "source": [
    "---\n"
   ]
  },
  {
   "cell_type": "markdown",
   "id": "4c5f6054",
   "metadata": {},
   "source": [
    "## Questão 1.\n",
    "**Estabeleça, a partir do polinômio de Newton, uma expressão para o cálculo\n",
    "computacional de integrais aproximando o integrando por um polinômio de\n",
    "terceiro grau. No desenvolvimento apresente a definição do operador diferença dividida.**"
   ]
  },
  {
   "cell_type": "markdown",
   "id": "3383691f",
   "metadata": {},
   "source": [
    "Primeiramente, o polinômio interpolador de Newton para quatro pontos $(x_0, f(x_0))$, $(x_1, f(x_1))$, $(x_2, f(x_2))$, $(x_3, f(x_3))$ é dado por:\n",
    "\n",
    "$$P_3(x) = f[x_0] + f[x_0, x_1](x - x_0) + f[x_0, x_1, x_2](x - x_0)(x - x_1) + f[x_0, x_1, x_2, x_3](x - x_0)(x - x_1)(x - x_2)$$\n",
    "\n",
    "Nesse polinômio, usamos o operador de diferença dividida, que é definido de forma recursiva:\n",
    "\n",
    "- Primeira ordem:\n",
    "$$f[x_i, x_{i+1}] = \\frac{f(x_{i+1}) - f(x_i)}{x_{i+1} - x_i}$$\n",
    "\n",
    "- Segunda ordem:\n",
    "$$f[x_i, x_{i+1}, x_{i+2}] = \\frac{f[x_{i+1}, x_{i+2}] - f[x_i, x_{i+1}]}{x_{i+2} - x_i}$$\n",
    "\n",
    "- Terceira ordem:\n",
    "$$f[x_i, x_{i+1}, x_{i+2}, x_{i+3}] = \\frac{f[x_{i+1}, x_{i+2}, x_{i+3}] - f[x_i, x_{i+1}, x_{i+2}]}{x_{i+3} - x_i}$$\n",
    "\n",
    "Depois de construído o polinômio $P_3(x)$, integramos ele no intervalo desejado, substituindo o integrando original. Como ele é um polinômio, sua integral é simples de calcular, e assim conseguimos uma aproximação numérica para a integral definida.\n",
    "Esse método faz parte da ideia geral de métodos de quadratura, onde aproximamos funções por polinômios para facilitar o cálculo de integrais de forma computacional."
   ]
  },
  {
   "cell_type": "code",
   "execution_count": null,
   "id": "3981e998",
   "metadata": {},
   "outputs": [
    {
     "name": "stdout",
     "output_type": "stream",
     "text": [
      "Valor aproximado da integral: 3.40\n"
     ]
    }
   ],
   "source": [
    "def integral_polinomioNewton(f, a, b):\n",
    "    '''\n",
    "    f recebe a função\n",
    "    a recebe o início do intervalo\n",
    "    b recebe o final do intervalo\n",
    "    '''\n",
    "    h = (b - a) / 3\n",
    "    x0 = a\n",
    "    x1 = a + h\n",
    "    x2 = a + 2*h\n",
    "    x3 = b\n",
    "\n",
    "    integral = (3 * h / 8) * (f(x0) + 3*f(x1) + 3*f(x2) + f(x3))\n",
    "    return integral\n",
    "\n",
    "# Exemplo de uso:\n",
    "import math\n",
    "\n",
    "# Defina a função que você quer integrar\n",
    "def f(x):\n",
    "    return math.exp(x) * math.sin(10*x) + 8\n",
    "\n",
    "# Intervalo de integração\n",
    "a = 0.0\n",
    "b = 0.4\n",
    "\n",
    "# Cálculo da integral aproximada\n",
    "resultado = integral_polinomioNewton(f, a, b)\n",
    "print(f\"Valor aproximado da integral: {resultado:.2f}\")"
   ]
  },
  {
   "cell_type": "markdown",
   "id": "5236be8c",
   "metadata": {},
   "source": [
    "---\n"
   ]
  },
  {
   "cell_type": "markdown",
   "id": "bc35825d",
   "metadata": {},
   "source": [
    "## Questão 2.\n",
    "**Construa, em Python, uma rotina que calcule o valor da integral de uma\n",
    "dada função, pela aproximação por um polinômio integrador de Newton de\n",
    "ordem 3. Use essa rotina para calcular.**\n",
    "\n",
    "$$\\int_{0.01}^{1} \\frac{\\operatorname{sen}(100x)}{x} dx$$\n",
    "\n",
    "**Calcule o valor exato da integral, compare com o resultado obtido por sua\n",
    "rotina, apresente uma análise.**"
   ]
  },
  {
   "cell_type": "code",
   "execution_count": null,
   "id": "8fd51175",
   "metadata": {},
   "outputs": [],
   "source": [
    "def newton_ordem3(f, a, b, n):\n",
    "    '''\n",
    "    f recebe a função\n",
    "    a recebe o ínicio do intervalo\n",
    "    b recebe o fim do intervalo\n",
    "    n recebe o número de subintervalos (desde que múltiplo de 3)\n",
    "    '''\n",
    "    if n % 3 != 0:\n",
    "        raise ValueError(\"O número de subintervalos n deve ser múltiplo de 3.\")\n",
    "\n",
    "    h = (b - a) / n\n",
    "    integral = 0.0\n",
    "\n",
    "    for i in range(0, n, 3):\n",
    "        x0 = a + i*h\n",
    "        x1 = x0 + h\n",
    "        x2 = x0 + 2*h\n",
    "        x3 = x0 + 3*h\n",
    "\n",
    "        integral += (3*h/8) * (f(x0) + 3*f(x1) + 3*f(x2) + f(x3))\n",
    "\n",
    "    return integral"
   ]
  },
  {
   "cell_type": "code",
   "execution_count": 21,
   "id": "ab4993fb",
   "metadata": {},
   "outputs": [
    {
     "name": "stdout",
     "output_type": "stream",
     "text": [
      "Valor aproximado da integral: 0.62\n",
      "Valor exato (aproximado com quad): 0.62\n"
     ]
    }
   ],
   "source": [
    "import math\n",
    "import numpy as np\n",
    "from scipy.integrate import quad\n",
    "\n",
    "def f(x):\n",
    "    return (np.sin(100*x) / x)\n",
    "\n",
    "# Definindo intervalo e número de subintervalos (múltiplo de 3)\n",
    "a = 0.01\n",
    "b = 1\n",
    "n = 300  # múltiplo de 3\n",
    "\n",
    "# Cálculo da integral aproximada por meio da rotina criada\n",
    "resultado = newton_ordem3(f, a, b, n)\n",
    "print(f\"Valor aproximado da integral: {resultado:.2f}\")\n",
    "\n",
    "# Valor exato da integral por meio do quad\n",
    "valor_exato, _ = quad(f, a, b)\n",
    "print(f\"Valor exato (aproximado com quad): {valor_exato:.2f}\")"
   ]
  },
  {
   "cell_type": "code",
   "execution_count": null,
   "id": "99aece60",
   "metadata": {},
   "outputs": [
    {
     "name": "stdout",
     "output_type": "stream",
     "text": [
      "Erro absoluto: 0.00003\n",
      "Erro relativo: 0.00456%\n"
     ]
    }
   ],
   "source": [
    "# Analise do erro entre o valor obtido pela rotina e o valor obtido pelo quad\n",
    "\n",
    "# Avaliando o erro absoluto\n",
    "erro_absoluto = abs(valor_exato - resultado)\n",
    "\n",
    "# Erro relativo (em %)\n",
    "erro_relativo = (erro_absoluto / abs(valor_exato)) * 100\n",
    "\n",
    "print(f\"Erro absoluto: {erro_absoluto:.5f}\")\n",
    "print(f\"Erro relativo: {erro_relativo:.5f}%\")"
   ]
  },
  {
   "cell_type": "markdown",
   "id": "054babca",
   "metadata": {},
   "source": [
    "**Análise**\n",
    "\n",
    "O erro absoluto foi de 0,00003 e o erro relativo de apenas 0,00456%, indicando que a aproximação está muito próxima do valor obtido pelo método numérico quad."
   ]
  },
  {
   "cell_type": "markdown",
   "id": "d28af500",
   "metadata": {},
   "source": [
    "---\n"
   ]
  },
  {
   "cell_type": "markdown",
   "id": "041000bb",
   "metadata": {},
   "source": [
    "## Questão 3.\n",
    "\n",
    "**Seja $f(x) = e^x \\operatorname{sen}(10x) + 8$. Baseado no polinômio de Newton de grau 1, estabeleça a denominada regra do trapézio.  \n",
    "Calcule $\\int_{0}^{2.0} f(x) dx$ usando o método do trapézio composto de maneira a ter um erro na terceira casa decimal.**"
   ]
  },
  {
   "cell_type": "code",
   "execution_count": 23,
   "id": "9c9eb062",
   "metadata": {},
   "outputs": [],
   "source": [
    "def regra_trapezio(f, a, b):\n",
    "    return (b - a) / 2 * (f(a) + f(b))"
   ]
  },
  {
   "cell_type": "code",
   "execution_count": 25,
   "id": "97adecce",
   "metadata": {},
   "outputs": [
    {
     "name": "stdout",
     "output_type": "stream",
     "text": [
      "Valor aproximado da integral pelo Trapézio: 17.293\n"
     ]
    }
   ],
   "source": [
    "# Aplicando na função fornecida\n",
    "\n",
    "import math\n",
    "\n",
    "def f(x):\n",
    "    return math.exp(x) * math.sin(10*x) + 8\n",
    "\n",
    "a = 0.4\n",
    "b = 2.0\n",
    "\n",
    "resultado = regra_trapezio(f, a, b)\n",
    "print(f\"Valor aproximado da integral pelo Trapézio: {resultado:.3f}\")"
   ]
  },
  {
   "cell_type": "markdown",
   "id": "24865f48",
   "metadata": {},
   "source": [
    "---\n"
   ]
  },
  {
   "cell_type": "markdown",
   "id": "20149fed",
   "metadata": {},
   "source": [
    "## Questão 4."
   ]
  },
  {
   "cell_type": "markdown",
   "id": "5c1d7245",
   "metadata": {},
   "source": [
    "**Na tabela abaixo, a População Urbana e Rural do Brasil (1940-2022). Avalie qual o melhor grau de um polinômio para uma regressão para essas populações e apresente, segundo seu modelo, essas populações em 2025.**\n",
    "\n",
    "Table 1: População Urbana e Rural do Brasil (1940–2022)\n",
    "| Ano | Urbana (milhões) | Rural (milhões) |\n",
    "|---|---|---|\n",
    "| 1940 | 10,9 | 30,3 |\n",
    "| 1950 | 19,4 | 32,5 |\n",
    "| 1960 | 32,0 | 38,0 |\n",
    "| 1970 | 56,0 | 37,1 |\n",
    "| 1980 | 80,1 | 38,9 |\n",
    "| 1991 | 110,7 | 36,1 |\n",
    "| 2000 | 137,9 | 31,7 |\n",
    "| 2010 | 160,9 | 29,9 |\n",
    "| 2022 | 172,3 | 30,8 |"
   ]
  },
  {
   "cell_type": "code",
   "execution_count": 33,
   "id": "a7111237",
   "metadata": {},
   "outputs": [
    {
     "name": "stdout",
     "output_type": "stream",
     "text": [
      "Estimativas para o ano de 2025:\n",
      "Grau do Polinômio de Newton: 3\n",
      "População Urbana estimada: 171.5 milhões\n",
      "População Rural estimada: 31.4 milhões\n"
     ]
    }
   ],
   "source": [
    "import numpy as np\n",
    "\n",
    "# Dados da tabela (anos e populações)\n",
    "anos = np.array([1940, 1950, 1960, 1970, 1980, 1991, 2000, 2010, 2022])\n",
    "pop_urbana = np.array([10.9, 19.4, 32.0, 56.0, 80.1, 110.7, 137.9, 160.9, 172.3])\n",
    "pop_rural = np.array([30.3, 32.5, 38.0, 37.1, 38.9, 36.1, 31.7, 29.9, 30.8])\n",
    "\n",
    "# Função para calcular as diferenças divididas de Newton\n",
    "def diferencas_divididas(x, y):\n",
    "    n = len(x)\n",
    "    tabela = np.zeros((n, n))\n",
    "    tabela[:, 0] = y\n",
    "    for j in range(1, n):\n",
    "        for i in range(n - j):\n",
    "            tabela[i][j] = (tabela[i + 1][j - 1] - tabela[i][j - 1]) / (x[i + j] - x[i])\n",
    "    return tabela[0]\n",
    "\n",
    "# Função para calcular o valor do polinômio de Newton para um dado x\n",
    "def polinomio_newton(x_valores, coefs, x):\n",
    "    n = len(coefs)\n",
    "    resultado = coefs[0]\n",
    "    produto = 1.0\n",
    "    for i in range(1, n):\n",
    "        produto *= (x - x_valores[i - 1])\n",
    "        resultado += coefs[i] * produto\n",
    "    return resultado\n",
    "\n",
    "# Seleção dos 4 últimos pontos (para interpolação mais próxima de 2025)\n",
    "indices = [-4, -3, -2, -1]  # Corresponde aos anos: 2000, 2010, 2022\n",
    "x_ultimos = anos[indices]\n",
    "y_urb_ultimos = pop_urbana[indices]\n",
    "y_rur_ultimos = pop_rural[indices]\n",
    "\n",
    "# Cálculo dos coeficientes do polinômio de Newton\n",
    "coefs_urbana = diferencas_divididas(x_ultimos, y_urb_ultimos)\n",
    "coefs_rural = diferencas_divididas(x_ultimos, y_rur_ultimos)\n",
    "\n",
    "# Estimativa para o ano de 2025\n",
    "ano_estimar = 2025\n",
    "estimativa_urbana = polinomio_newton(x_ultimos, coefs_urbana, ano_estimar)\n",
    "estimativa_rural = polinomio_newton(x_ultimos, coefs_rural, ano_estimar)\n",
    "\n",
    "print(\"Estimativas para o ano de 2025:\")\n",
    "print(f\"Grau do Polinômio de Newton: {len(x_ultimos) - 1}\")\n",
    "print(f\"População Urbana estimada: {estimativa_urbana:.1f} milhões\")\n",
    "print(f\"População Rural estimada: {estimativa_rural:.1f} milhões\")\n"
   ]
  },
  {
   "cell_type": "markdown",
   "id": "e7479c5a",
   "metadata": {},
   "source": [
    "---\n"
   ]
  },
  {
   "cell_type": "markdown",
   "id": "ad200a28",
   "metadata": {},
   "source": [
    "## Questão 5\n",
    "\n",
    "**5. Seja o sistema de abaixo:**\n",
    "$$\n",
    "\\begin{bmatrix}\n",
    "1 & 0 & 0 & -2 & 0 & 0 \\\\\n",
    "1 & 0 & 0 & 0 & -1 & 0 \\\\\n",
    "4 & 4 & 2 & -4 & -4 & 3 \\\\\n",
    "0 & 2 & 0 & 0 & 0 & 0 \\\\\n",
    "0 & 1 & 0 & -1 & -1 & 0 \\\\\n",
    "0 & 0 & 1 & 0 & 0 & -1\n",
    "\\end{bmatrix}\n",
    "\\begin{bmatrix}\n",
    "x_1 \\\\\n",
    "x_2 \\\\\n",
    "x_3 \\\\\n",
    "x_4 \\\\\n",
    "x_5 \\\\\n",
    "x_6\n",
    "\\end{bmatrix}\n",
    "=\n",
    "\\begin{bmatrix}\n",
    "0 \\\\\n",
    "0 \\\\\n",
    "1 \\\\\n",
    "2 \\\\\n",
    "0 \\\\\n",
    "0\n",
    "\\end{bmatrix}\n",
    "$$\n",
    "**Construa, em Python, uma função que pelo método da decomposição de Gauss usando as matrizes elementares apresentadas em sala, calcule a solução. Compare seu resultado com aquele obtido pelo uso de `numpy.linalg.solve`.**"
   ]
  },
  {
   "cell_type": "code",
   "execution_count": 35,
   "id": "3ec646c9",
   "metadata": {},
   "outputs": [],
   "source": [
    "import numpy as np\n",
    "\n",
    "# Matriz de coeficientes A e vetor de constantes b\n",
    "A = np.array([\n",
    "    [1, 0, 0, -2, 0, 0],\n",
    "    [1, 0, 0, 0, -1, 0],\n",
    "    [4, 4, 2, -4, -4, 3],\n",
    "    [0, 2, 0, 0, 0, 0],\n",
    "    [0, 1, 0, -1, -1, 0],\n",
    "    [0, 0, 1, 0, 0, -1]\n",
    "], dtype=float)\n",
    "\n",
    "b = np.array([0, 0, 1, 2, 0, 0], dtype=float)\n",
    "\n",
    "# Função de eliminação de Gauss com pivotamento parcial\n",
    "def eliminacao_gauss(A, b):\n",
    "    n = len(b)\n",
    "    A = A.copy()\n",
    "    b = b.copy()\n",
    "\n",
    "    for k in range(n - 1):\n",
    "        max_row = np.argmax(np.abs(A[k:, k])) + k\n",
    "        if A[max_row, k] == 0:\n",
    "            continue\n",
    "        if max_row != k:\n",
    "            A[[k, max_row]] = A[[max_row, k]]\n",
    "            b[[k, max_row]] = b[[max_row, k]]\n",
    "\n",
    "        for i in range(k + 1, n):\n",
    "            m = A[i, k] / A[k, k]\n",
    "            A[i, k:] -= m * A[k, k:]\n",
    "            b[i] -= m * b[k]\n",
    "\n",
    "    x = np.zeros(n)\n",
    "    for i in reversed(range(n)):\n",
    "        x[i] = (b[i] - np.dot(A[i, i + 1:], x[i + 1:])) / A[i, i]\n",
    "    return x"
   ]
  },
  {
   "cell_type": "code",
   "execution_count": 43,
   "id": "3559be40",
   "metadata": {},
   "outputs": [
    {
     "name": "stdout",
     "output_type": "stream",
     "text": [
      "Solução com Gauss + Pivotamento: [ 0.66666667  1.         -0.33333333  0.33333333  0.66666667 -0.33333333]\n",
      "Solução com numpy.linalg.solve: [ 0.66666667  1.         -0.33333333  0.33333333  0.66666667 -0.33333333]\n"
     ]
    }
   ],
   "source": [
    "# Resolvendo a matriz com Gauss e comparando com numpy\n",
    "x_gauss = eliminacao_gauss(A, b)\n",
    "x_numpy = np.linalg.solve(A, b)\n",
    "\n",
    "print(f\"Solução com Gauss + Pivotamento: {x_gauss}\")\n",
    "print(f\"Solução com numpy.linalg.solve: {x_numpy}\")"
   ]
  },
  {
   "cell_type": "markdown",
   "id": "9914ce47",
   "metadata": {},
   "source": [
    "---"
   ]
  },
  {
   "cell_type": "markdown",
   "id": "81b83eff",
   "metadata": {},
   "source": [
    "## Questão 6\n",
    "**Apresente, em forma de algoritmo, uma estratégia para pivotação parcial na solução de sistemas lineares pela decomposição LU. Implemente em Python,\n",
    "mostrando com comentários a relação entre o código e o algoritmo apresentado. Resolva o sistema da questão anterior, com o código dessa questão.**"
   ]
  },
  {
   "cell_type": "code",
   "execution_count": 44,
   "id": "35b6b5cf",
   "metadata": {},
   "outputs": [],
   "source": [
    "import numpy as np\n",
    "\n",
    "def lu_decomposicao_pivotacao_parcial(A):\n",
    "    \"\"\"\n",
    "    Retorna L, U e P (matriz de permutação) para a matriz A\n",
    "    usando decomposição LU com pivotação parcial.\n",
    "    \"\"\"\n",
    "    n = A.shape[0]\n",
    "    U = A.copy().astype(float)\n",
    "    L = np.eye(n)\n",
    "    P = np.eye(n)  # Matriz de permutação inicial\n",
    "\n",
    "    for k in range(n-1):\n",
    "        # 1. Encontrar índice do pivot na coluna k\n",
    "        max_index = np.argmax(np.abs(U[k:, k])) + k\n",
    "\n",
    "        # 2. Trocar linhas k e max_index em U, P e L (apenas colunas antes de k em L)\n",
    "        if max_index != k:\n",
    "            U[[k, max_index], :] = U[[max_index, k], :]\n",
    "            P[[k, max_index], :] = P[[max_index, k], :]\n",
    "            if k > 0:\n",
    "                L[[k, max_index], :k] = L[[max_index, k], :k]\n",
    "\n",
    "        # 3. Eliminação\n",
    "        for i in range(k+1, n):\n",
    "            L[i, k] = U[i, k] / U[k, k]\n",
    "            U[i, k:] = U[i, k:] - L[i, k] * U[k, k:]\n",
    "\n",
    "    return P, L, U\n",
    "\n",
    "# Exemplo para resolver Ax = b\n",
    "def resolver_sistema(A, b):\n",
    "    P, L, U = lu_decomposicao_pivotacao_parcial(A)\n",
    "\n",
    "    # Aplica permutação em b\n",
    "    b_permutado = P @ b\n",
    "\n",
    "    # Resolução Ly = Pb (substituição progressiva)\n",
    "    n = L.shape[0]\n",
    "    y = np.zeros_like(b, dtype=float)\n",
    "    for i in range(n):\n",
    "        y[i] = b_permutado[i] - np.dot(L[i, :i], y[:i])\n",
    "\n",
    "    # Resolução Ux = y (substituição regressiva)\n",
    "    x = np.zeros_like(b, dtype=float)\n",
    "    for i in reversed(range(n)):\n",
    "        x[i] = (y[i] - np.dot(U[i, i+1:], x[i+1:])) / U[i, i]\n",
    "\n",
    "    return x\n"
   ]
  },
  {
   "cell_type": "code",
   "execution_count": 53,
   "id": "ac92a174",
   "metadata": {},
   "outputs": [
    {
     "name": "stdout",
     "output_type": "stream",
     "text": [
      "Solução (LU com Pivotamento): [ 0.66666667  1.         -0.33333333  0.33333333  0.66666667 -0.33333333],\n",
      "\n",
      "Solução (numpy.linalg): [ 0.66666667  1.         -0.33333333  0.33333333  0.66666667 -0.33333333]\n"
     ]
    }
   ],
   "source": [
    "# Solução com LU\n",
    "x_lu = resolver_sistema(A, b)\n",
    "\n",
    "# Solução com numpy para verificação\n",
    "x_np = np.linalg.solve(A, b)\n",
    "\n",
    "# Resultado\n",
    "print(f\"Solução (LU com Pivotamento): {x_lu},\\n\\nSolução (numpy.linalg): {x_np}\")"
   ]
  }
 ],
 "metadata": {
  "kernelspec": {
   "display_name": "Python 3",
   "language": "python",
   "name": "python3"
  },
  "language_info": {
   "codemirror_mode": {
    "name": "ipython",
    "version": 3
   },
   "file_extension": ".py",
   "mimetype": "text/x-python",
   "name": "python",
   "nbconvert_exporter": "python",
   "pygments_lexer": "ipython3",
   "version": "3.13.1"
  }
 },
 "nbformat": 4,
 "nbformat_minor": 5
}
