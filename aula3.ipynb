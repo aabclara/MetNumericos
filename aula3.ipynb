{
 "cells": [
  {
   "cell_type": "markdown",
   "metadata": {},
   "source": [
    "### *Importações*"
   ]
  },
  {
   "cell_type": "code",
   "execution_count": 16,
   "metadata": {},
   "outputs": [],
   "source": [
    "import numpy as np\n",
    "import matplotlib.pyplot as plt"
   ]
  },
  {
   "cell_type": "markdown",
   "metadata": {},
   "source": [
    "#### Escrever a função $2x^3+5x^2- sen(x)-30=0$"
   ]
  },
  {
   "cell_type": "code",
   "execution_count": 4,
   "metadata": {},
   "outputs": [],
   "source": [
    "def f1(x):\n",
    "    return (2*(x)**3 + 5*(x**2) - np.sin(x) - 30)"
   ]
  },
  {
   "cell_type": "code",
   "execution_count": null,
   "metadata": {},
   "outputs": [],
   "source": [
    "# Caso seja necessário utilizar o seno em radianos\n",
    "np.radians(x)"
   ]
  },
  {
   "cell_type": "markdown",
   "metadata": {},
   "source": [
    "Testando se o intervalo $[1, 4]$ possuí raízes"
   ]
  },
  {
   "cell_type": "code",
   "execution_count": null,
   "metadata": {},
   "outputs": [
    {
     "name": "stdout",
     "output_type": "stream",
     "text": [
      "-4261.83\n",
      "Resultado negativo! O intervalo possuí pelo menos uma raiz!\n"
     ]
    }
   ],
   "source": [
    "result = (f1(1) * f1(4))\n",
    "\n",
    "print(f\"{result:.2f}\")\n",
    "\n",
    "if result < 0:\n",
    "    print(\"Resultado negativo! O intervalo possuí pelo menos uma raiz!\")\n",
    "elif result > 0:\n",
    "    print(\"Resultado positivo! O intervalo não possuí raízes!\")\n",
    "else:\n",
    "    print(\"Um dos pontos é a raiz do intervalo!\")"
   ]
  },
  {
   "cell_type": "markdown",
   "metadata": {},
   "source": [
    "- Para encontrar as raízes:\n",
    "\n",
    "Como o resultado foi negativo, o intervalo possuí pelo menos uma raiz."
   ]
  },
  {
   "cell_type": "code",
   "execution_count": 31,
   "metadata": {},
   "outputs": [
    {
     "name": "stdout",
     "output_type": "stream",
     "text": [
      "2.50\n"
     ]
    }
   ],
   "source": [
    "pontoMeio1 = (1.0  + 4.0) / 2 # Pegando o ponto no centro do intervalo\n",
    "print(f\"{pontoMeio1:.2f}\")"
   ]
  },
  {
   "cell_type": "code",
   "execution_count": 64,
   "metadata": {},
   "outputs": [
    {
     "name": "stdout",
     "output_type": "stream",
     "text": [
      "A raiz da função é 1.8797760009765625\n",
      "Foram feitas 16 iterações para encontrar a raiz.\n"
     ]
    }
   ],
   "source": [
    "inicio = 1.0\n",
    "final = 4.0\n",
    "tolerancia = 0.0009\n",
    "bisessoes = 0\n",
    "\n",
    "# testa se existem raízes no intervalo\n",
    "if f1(inicio) * f1(final) < 0:\n",
    "    while True:\n",
    "        pontoMeio = (inicio + final) / 2.0\n",
    "        resultado = f1(pontoMeio)\n",
    "        bisessoes += 1\n",
    "        # verifica se encontrou a raiz com precisão desejada\n",
    "        if abs(resultado) < tolerancia:\n",
    "            print(f\"A raiz da função é {pontoMeio}\")\n",
    "            print(f\"Foram feitas {bisessoes} iterações para encontrar a raiz.\")\n",
    "            break\n",
    "        # ajusta intervalo\n",
    "        if resultado > 0:\n",
    "            final = pontoMeio\n",
    "        else:\n",
    "            inicio = pontoMeio\n",
    "else:\n",
    "    print(\"Não há raiz nesse intervalo.\")\n"
   ]
  },
  {
   "cell_type": "markdown",
   "metadata": {},
   "source": [
    "#### Gerando o gráfico"
   ]
  },
  {
   "cell_type": "code",
   "execution_count": null,
   "metadata": {},
   "outputs": [],
   "source": [
    "x = np.linspace(1, 4, 15) # intervalo entre 1 e 4\n",
    "y = f1(x) # calculo do valor de y para cada x\n",
    "plt.title(\"Gráfico da função $2x^3+5x^2- sen(x)-30=0$\") # atribuindo o título\n",
    "plt.xlabel(\"x\") # nome do eixo x\n",
    "plt.ylabel(\"f(x)\") # nome do eixo y\n",
    "plt.axvline(x=0, color='black', linestyle='-')\n",
    "plt.axhline(y=0, color='black', linestyle='-')\n",
    "plt.grid(True)\n",
    "plt.plot(x, y)\n",
    "plt.show()"
   ]
  }
 ],
 "metadata": {
  "kernelspec": {
   "display_name": "Python 3",
   "language": "python",
   "name": "python3"
  },
  "language_info": {
   "codemirror_mode": {
    "name": "ipython",
    "version": 3
   },
   "file_extension": ".py",
   "mimetype": "text/x-python",
   "name": "python",
   "nbconvert_exporter": "python",
   "pygments_lexer": "ipython3",
   "version": "3.13.1"
  }
 },
 "nbformat": 4,
 "nbformat_minor": 2
}
