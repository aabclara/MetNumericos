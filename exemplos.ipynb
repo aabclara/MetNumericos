{
 "cells": [
  {
   "cell_type": "code",
   "execution_count": 2,
   "id": "d5ca6dea",
   "metadata": {},
   "outputs": [],
   "source": [
    "import MariaClaraMiguel as meuhelp\n",
    "import numpy as np"
   ]
  },
  {
   "cell_type": "markdown",
   "id": "f185b48c",
   "metadata": {},
   "source": [
    "---"
   ]
  },
  {
   "cell_type": "code",
   "execution_count": 3,
   "id": "19c86166",
   "metadata": {},
   "outputs": [
    {
     "name": "stdout",
     "output_type": "stream",
     "text": [
      "Tabela de Diferenças Divididas:\n",
      "[[ 1.  3.  1.]\n",
      " [ 4.  6.  0.]\n",
      " [16.  0.  0.]]\n",
      "O valor do polinômio de Newton em x = 3 é 9.0\n"
     ]
    }
   ],
   "source": [
    "#diferenças dividas + avalia newton\n",
    "# Calcula o polinômio interpolador de Newton e o avalia no ponto x=3.\n",
    "# Você fornece pontos (x, y) e precisa interpolar em um ponto específico com Newton.\n",
    "\n",
    "x = np.array([1, 2, 4])\n",
    "y = np.array([1, 4, 16])\n",
    "coef = meuhelp.diferencas_divididas(x, y)\n",
    "valor = meuhelp.avalia_newton(x, 3, coef)"
   ]
  },
  {
   "cell_type": "markdown",
   "id": "602d0777",
   "metadata": {},
   "source": [
    "---"
   ]
  },
  {
   "cell_type": "code",
   "execution_count": 8,
   "id": "a5461367",
   "metadata": {},
   "outputs": [
    {
     "name": "stdout",
     "output_type": "stream",
     "text": [
      "Tabela de Diferenças Divididas:\n",
      "[[ 1.  3.  1.]\n",
      " [ 4.  6.  0.]\n",
      " [16.  0.  0.]]\n",
      "O valor do polinômio de Newton em x = 3 é 9.0\n",
      "O valor do polinômio de Lagrange em x = 3 é 9.0\n",
      "Newton: 9.0, Lagrange: 9.0\n"
     ]
    }
   ],
   "source": [
    "# polinomio_lagrage\n",
    "# Calcula o valor do polinômio interpolador de Lagrande no ponto x = 3\n",
    "# Comparar resultados entre Newton e Lagrange ou justificar a escolha de método.\n",
    "\n",
    "x = np.array([1, 2, 4])\n",
    "y = np.array([1, 4, 16])\n",
    "x_ponto = 3\n",
    "\n",
    "# Newton\n",
    "coef = meuhelp.diferencas_divididas(x, y)\n",
    "valor_newton = meuhelp.avalia_newton(x, x_ponto, coef)\n",
    "\n",
    "# Lagrange\n",
    "valor_lagrange = meuhelp.polinomio_lagrange(x, y, x_ponto)\n",
    "\n",
    "print(f\"Newton: {valor_newton}, Lagrange: {valor_lagrange}\")"
   ]
  },
  {
   "cell_type": "code",
   "execution_count": null,
   "id": "39913aea",
   "metadata": {},
   "outputs": [],
   "source": [
    "# Usei o método de Newton porque ele permite reutilizar os coeficientes para múltiplas interpolações \n",
    "# com o mesmo conjunto de dados, o que é mais eficiente computacionalmente. \n",
    "# Além disso, se novos pontos forem adicionados, é possível atualizar a tabela sem recalcular tudo.\"\n",
    "\n",
    "# Usei Lagrange por ser mais direto e rápido de implementar para uma única interpolação. \n",
    "# Como só preciso do valor no ponto x=3, não compensa montar toda a tabela de Newton."
   ]
  },
  {
   "cell_type": "markdown",
   "id": "0ee26e06",
   "metadata": {},
   "source": [
    "---"
   ]
  },
  {
   "cell_type": "code",
   "execution_count": 9,
   "id": "7b753601",
   "metadata": {},
   "outputs": [
    {
     "name": "stdout",
     "output_type": "stream",
     "text": [
      "Matriz após Eliminação de Gauss:\n",
      "[[ 2.   1.  -1. ]\n",
      " [ 0.   0.5  0.5]\n",
      " [ 0.   0.  -1. ]]\n",
      "Vetor de termos independentes atualizado:\n",
      "[8. 1. 1.]\n",
      "Solução do sistema via substituição reversa:\n",
      "[ 2.  3. -1.]\n"
     ]
    }
   ],
   "source": [
    "# eliminação de Gauss + substituição reversa\n",
    "# resolve um sistema linear Ax = b por eliminação de Gauss.\n",
    "# Resolver sistema via Gauss, mostrar matriz triangular e solução.\n",
    "\n",
    "A = np.array([[2, 1, -1],\n",
    "              [-3, -1, 2],\n",
    "              [-2, 1, 2]])\n",
    "b = np.array([8, -11, -3])\n",
    "A_tri, b_mod = meuhelp.eliminacao_gauss(A, b)\n",
    "x = meuhelp.substituicao_reversa(A_tri, b_mod)"
   ]
  },
  {
   "cell_type": "markdown",
   "id": "0f9854ea",
   "metadata": {},
   "source": [
    "---"
   ]
  },
  {
   "cell_type": "code",
   "execution_count": 11,
   "id": "ea6330fd",
   "metadata": {},
   "outputs": [
    {
     "name": "stdout",
     "output_type": "stream",
     "text": [
      "Matriz L:\n",
      "[[ 1.  0.  0.]\n",
      " [-2.  1.  0.]\n",
      " [-2. -1.  1.]]\n",
      "Matriz U:\n",
      "[[ 2. -1. -2.]\n",
      " [ 0.  4. -1.]\n",
      " [ 0.  0.  3.]]\n"
     ]
    }
   ],
   "source": [
    "# decomposicao_LU + sistemas_triangularesInferior + sistema_triangular_superior\n",
    "# Resolve o sistema Ax = b via decomposição LU (Doolittle).\n",
    "# Executar LU e resolver o sistema via dois sistemas triangulares.\n",
    "\n",
    "A = np.array([[2, -1, -2],\n",
    "              [-4, 6, 3],\n",
    "              [-4, -2, 8]])\n",
    "b = np.array([-2, 9, -5])\n",
    "L, U = meuhelp.decomposicao_LU(A)\n",
    "y = meuhelp.sistemas_triangularesInferior(L, b)\n",
    "x = meuhelp.sistema_triangular_superior(U, y)"
   ]
  },
  {
   "cell_type": "markdown",
   "id": "8612674f",
   "metadata": {},
   "source": [
    "--- "
   ]
  },
  {
   "cell_type": "code",
   "execution_count": 15,
   "id": "48f8b074",
   "metadata": {},
   "outputs": [
    {
     "name": "stdout",
     "output_type": "stream",
     "text": [
      "Matriz L da decomposição de Cholesky:\n",
      "[[2 0]\n",
      " [1 1]]\n",
      "A matriz é definida positiva (Cholesky válida).\n",
      "True\n",
      "Matriz L da decomposição de Cholesky:\n",
      "[[2 0]\n",
      " [1 1]]\n"
     ]
    }
   ],
   "source": [
    "# cholesky + sistemas_triangularesInferior + sistema_triangular_superior\n",
    "# Usa decomposição de Cholesky para resolver sistema com matriz simétrica e definida positiva.\n",
    "# Aplicar Cholesky e resolver o sistema. Pode ser pedido para validar se a matriz é definida positiva.\n",
    "\n",
    "A = np.array([[4, 2],\n",
    "              [2, 3]])\n",
    "b = np.array([6, 7])\n",
    "\n",
    "resp = meuhelp.definida_positiva_por_cholesky(A)\n",
    "print(resp)\n",
    "\n",
    "L = meuhelp.cholesky(A)\n",
    "y = meuhelp.sistemas_triangularesInferior(L, b)\n",
    "x = meuhelp.sistema_triangular_superior(L.T, y)"
   ]
  },
  {
   "cell_type": "markdown",
   "id": "2daf5be1",
   "metadata": {},
   "source": [
    "---"
   ]
  },
  {
   "cell_type": "code",
   "execution_count": null,
   "id": "bbf9ac27",
   "metadata": {},
   "outputs": [
    {
     "name": "stdout",
     "output_type": "stream",
     "text": [
      "Integral aproximada pelo método do trapézio em [0, 2] com 4 subintervalos: 2.75\n"
     ]
    }
   ],
   "source": [
    "# integral_trapezio\n",
    "# Aproxima a integral de x^2 de 0 a 2 com 4 subintervalos (método do trapézio composto).\n",
    "# Implementar ou aplicar a regra do trapézio com um número dado de subintervalos.\n",
    "\n",
    "def f(x):\n",
    "    return x**2\n",
    "\n",
    "resultado = meuhelp.integral_trapezio(f, 0, 2, 4)"
   ]
  },
  {
   "cell_type": "code",
   "execution_count": 20,
   "id": "5b42ca86",
   "metadata": {},
   "outputs": [
    {
     "name": "stdout",
     "output_type": "stream",
     "text": [
      "Integral aproximada pelo método de Simpson em [0, 2] com 4 subintervalos: 2.6666666666666665\n"
     ]
    }
   ],
   "source": [
    "# integral_simpson\n",
    "# Aproxima a integral de x^2 de 0 a 2 com 4 subintervalos (método de Simpson 1/3).\n",
    "# Calcular a integral com n par. Pode cobrar validação do número de subintervalos.\n",
    "\n",
    "def f(x):\n",
    "    return x**2\n",
    "\n",
    "resultado = meuhelp.integral_simpson(f, 0, 2, 4)\n",
    "\n",
    "# Validei que n é par antes de aplicar Simpson, pois o método depende de pares de subintervalos \n",
    "# para funcionar corretamente. \n",
    "# Caso n seja ímpar, levanto um erro para evitar cálculo incorreto."
   ]
  },
  {
   "cell_type": "markdown",
   "id": "fc0f6e79",
   "metadata": {},
   "source": [
    "--- "
   ]
  },
  {
   "cell_type": "code",
   "execution_count": 19,
   "id": "c1fe2fcc",
   "metadata": {},
   "outputs": [],
   "source": [
    "# calcular_determinante\n",
    "# Calcula o determinante de uma matriz quadrada usando eliminação.\n",
    "# Determinar se a matriz é singular (det=0) ou não.\n",
    "\n",
    "A = np.array([[2, 3], [1, 4]])\n",
    "det = meuhelp.calcular_determinante(A)\n"
   ]
  }
 ],
 "metadata": {
  "kernelspec": {
   "display_name": "base",
   "language": "python",
   "name": "python3"
  },
  "language_info": {
   "codemirror_mode": {
    "name": "ipython",
    "version": 3
   },
   "file_extension": ".py",
   "mimetype": "text/x-python",
   "name": "python",
   "nbconvert_exporter": "python",
   "pygments_lexer": "ipython3",
   "version": "3.12.7"
  }
 },
 "nbformat": 4,
 "nbformat_minor": 5
}
