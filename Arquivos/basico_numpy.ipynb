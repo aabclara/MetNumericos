{
 "cells": [
  {
   "cell_type": "markdown",
   "id": "f5dc8caf-cb0b-43d6-a142-ed8dd78716e7",
   "metadata": {},
   "source": [
    "# aula 04/04\n",
    "\n",
    "# Básico do básico com o Numpy\n",
    "\n",
    ">> Métodos Númericos computacionais\n",
    ">> >> Prof. Paulo Mappa"
   ]
  },
  {
   "cell_type": "markdown",
   "id": "a2c6f765-e7e8-4cad-8d33-5816234e7846",
   "metadata": {},
   "source": [
    "## O objeto ndarray"
   ]
  },
  {
   "cell_type": "markdown",
   "id": "9802f369-4bed-4295-a570-14ce9c608ad4",
   "metadata": {},
   "source": [
    "Na programação de computadores, um array é uma estrutura para armazenar e recuperar dados.\n",
    "\n",
    "Uma tradução feita por IA: \n",
    ">A palavra \"array\" em inglês pode ser traduzida para português como:\n",
    "> \n",
    "> Conjunto, Variedade, Série, Gama, Disposição, Vetor, Arranjo, Matriz, Rede, Seleção.\n",
    "\n",
    "Desses, Matriz é uma estrutura de dados que nos é familhar.  \n",
    "Aquela das planilhas eletrônicas!\n",
    "\n",
    "**ndarray** é um array n-dimensional.\n",
    "\n",
    "Quando estudamos matemática, trabalhamos com matrizes e vetor.\n",
    "\n",
    "**Aquela matriz lá da matemática é um array de duas dimensões.**"
   ]
  },
  {
   "cell_type": "markdown",
   "id": "e6a1ca92-21e8-4e2a-a486-556f7e05a2cf",
   "metadata": {},
   "source": [
    "## Começando"
   ]
  },
  {
   "cell_type": "markdown",
   "id": "c82acf38-d6af-486a-b693-e2044a521e4a",
   "metadata": {},
   "source": [
    "Primeiro passo: importar a biblioteca *numpy*"
   ]
  },
  {
   "cell_type": "code",
   "execution_count": 2,
   "id": "d8020307-b4b6-4f58-a652-616c843c354a",
   "metadata": {},
   "outputs": [],
   "source": [
    "import numpy as np  # importamos numpy e faremos referência a ela por np."
   ]
  },
  {
   "cell_type": "code",
   "execution_count": 51,
   "id": "67c89b3a-7618-430d-b640-6079b484142f",
   "metadata": {},
   "outputs": [],
   "source": [
    "def soma_matriz(matriz_a, matriz_b):\n",
    "    soma = matriz_a + matriz_b\n",
    "    return(soma)"
   ]
  },
  {
   "cell_type": "code",
   "execution_count": 52,
   "id": "6acef488-ddcf-4ef2-a4d3-ef5ee43affa2",
   "metadata": {},
   "outputs": [],
   "source": [
    "u = np.array([[4.8, 5, 7.976, 8], [5.3, 5, 7.8, 9]])\n",
    "v = u + 5"
   ]
  },
  {
   "cell_type": "code",
   "execution_count": null,
   "id": "effe8560-e5d8-4be7-9e26-33d04041a92e",
   "metadata": {},
   "outputs": [],
   "source": [
    "patati = soma_matriz(u, v)\n",
    "print(patati)"
   ]
  },
  {
   "cell_type": "markdown",
   "id": "2b748309-aec6-4d13-9ae2-332d083a7bc8",
   "metadata": {},
   "source": [
    "Array unidimensional:"
   ]
  },
  {
   "cell_type": "code",
   "execution_count": 43,
   "id": "f1f2b984-fa01-42f8-9b31-4c58e314da29",
   "metadata": {},
   "outputs": [],
   "source": [
    "t = np.array([4, 5, 7, 8])"
   ]
  },
  {
   "cell_type": "code",
   "execution_count": 44,
   "id": "e8177365-27eb-478c-ba35-ab0bbfbc3e3d",
   "metadata": {},
   "outputs": [
    {
     "data": {
      "text/plain": [
       "array([4, 5, 7, 8])"
      ]
     },
     "execution_count": 44,
     "metadata": {},
     "output_type": "execute_result"
    }
   ],
   "source": [
    "t # quero ver o conteúdo de t"
   ]
  },
  {
   "cell_type": "markdown",
   "id": "ccd127f1-1083-4305-93f3-28af71124cde",
   "metadata": {},
   "source": [
    "Array bidimensional:"
   ]
  },
  {
   "cell_type": "code",
   "execution_count": 49,
   "id": "2a25063e-8232-43be-8c8e-6611a61d9573",
   "metadata": {},
   "outputs": [
    {
     "data": {
      "text/plain": [
       "array([[4.8  , 5.   , 7.976, 8.   ],\n",
       "       [5.3  , 5.   , 7.8  , 9.   ]])"
      ]
     },
     "execution_count": 49,
     "metadata": {},
     "output_type": "execute_result"
    }
   ],
   "source": [
    "u = np.array([[4.8, 5, 7.976, 8], [5.3, 5, 7.8, 9]])\n",
    "u"
   ]
  },
  {
   "cell_type": "code",
   "execution_count": 5,
   "id": "be5b0eaf-10b2-4398-a3e8-9ae60722f596",
   "metadata": {},
   "outputs": [
    {
     "name": "stdout",
     "output_type": "stream",
     "text": [
      "7.976\n"
     ]
    }
   ],
   "source": [
    "print( u[0, 2])"
   ]
  },
  {
   "cell_type": "code",
   "execution_count": 6,
   "id": "cd6ab738-dc3f-48dd-96cd-4b5b42c5c439",
   "metadata": {},
   "outputs": [
    {
     "name": "stdout",
     "output_type": "stream",
     "text": [
      "[[ 4.8   13.8    7.976  8.   ]\n",
      " [ 5.3    5.     7.8    9.   ]]\n"
     ]
    }
   ],
   "source": [
    "u[0, 1] = u[0, 0] + u[1, 3]\n",
    "print(u)"
   ]
  },
  {
   "cell_type": "code",
   "execution_count": 7,
   "id": "3e4f9de6-38e6-4edd-915e-aa562b0c6c20",
   "metadata": {},
   "outputs": [
    {
     "data": {
      "text/plain": [
       "(2, 4)"
      ]
     },
     "execution_count": 7,
     "metadata": {},
     "output_type": "execute_result"
    }
   ],
   "source": [
    "u.shape"
   ]
  },
  {
   "cell_type": "code",
   "execution_count": 8,
   "id": "da1558b5-8fe5-416b-aca8-7f1e8703093e",
   "metadata": {},
   "outputs": [
    {
     "data": {
      "text/plain": [
       "array([[ 4.8  ,  5.3  ],\n",
       "       [13.8  ,  5.   ],\n",
       "       [ 7.976,  7.8  ],\n",
       "       [ 8.   ,  9.   ]])"
      ]
     },
     "execution_count": 8,
     "metadata": {},
     "output_type": "execute_result"
    }
   ],
   "source": [
    "u.T  # tranposta de u!"
   ]
  },
  {
   "cell_type": "code",
   "execution_count": 9,
   "id": "17e2da1a-ed1a-4290-ba53-773fefe2a359",
   "metadata": {},
   "outputs": [
    {
     "data": {
      "text/plain": [
       "2"
      ]
     },
     "execution_count": 9,
     "metadata": {},
     "output_type": "execute_result"
    }
   ],
   "source": [
    "u.shape[0]"
   ]
  },
  {
   "cell_type": "code",
   "execution_count": 10,
   "id": "33c72927-3413-46ee-8aa8-60b8ac30d1aa",
   "metadata": {},
   "outputs": [
    {
     "name": "stdout",
     "output_type": "stream",
     "text": [
      "4\n"
     ]
    }
   ],
   "source": [
    "teste = u.shape[1]\n",
    "print(teste)"
   ]
  },
  {
   "cell_type": "code",
   "execution_count": 11,
   "id": "6ef90bd0-7ebc-47de-b0f6-8bd8a6660aa0",
   "metadata": {},
   "outputs": [
    {
     "data": {
      "text/plain": [
       "array([4.8, 5.3])"
      ]
     },
     "execution_count": 11,
     "metadata": {},
     "output_type": "execute_result"
    }
   ],
   "source": [
    "u[:, 0]"
   ]
  },
  {
   "cell_type": "code",
   "execution_count": 12,
   "id": "59c779b5-0e62-4fce-919f-a81435a99e89",
   "metadata": {},
   "outputs": [
    {
     "data": {
      "text/plain": [
       "array([[13.8  ,  7.976],\n",
       "       [ 5.   ,  7.8  ]])"
      ]
     },
     "execution_count": 12,
     "metadata": {},
     "output_type": "execute_result"
    }
   ],
   "source": [
    "u[0 : 2, 1 : 3]"
   ]
  },
  {
   "cell_type": "code",
   "execution_count": 13,
   "id": "190345fa-f447-45ff-bc66-49bdadb9f2fb",
   "metadata": {},
   "outputs": [
    {
     "data": {
      "text/plain": [
       "array([[ 4.8  , 13.8  ,  7.976,  8.   ],\n",
       "       [ 5.3  ,  5.   ,  7.8  ,  9.   ]])"
      ]
     },
     "execution_count": 13,
     "metadata": {},
     "output_type": "execute_result"
    }
   ],
   "source": [
    "u"
   ]
  },
  {
   "cell_type": "code",
   "execution_count": 14,
   "id": "2ee8121f-22e0-426b-b9be-9ff159c6b6f5",
   "metadata": {},
   "outputs": [],
   "source": [
    "k = u[0 : 2, 1 : 3]"
   ]
  },
  {
   "cell_type": "code",
   "execution_count": 15,
   "id": "93b501b0-0105-4dea-b7bd-ad49cfa74a07",
   "metadata": {},
   "outputs": [
    {
     "data": {
      "text/plain": [
       "array([[13.8  ,  7.976],\n",
       "       [ 5.   ,  7.8  ]])"
      ]
     },
     "execution_count": 15,
     "metadata": {},
     "output_type": "execute_result"
    }
   ],
   "source": [
    "k"
   ]
  },
  {
   "cell_type": "code",
   "execution_count": 16,
   "id": "703b4e0a-9d79-4871-9206-317c1f9270c2",
   "metadata": {},
   "outputs": [],
   "source": [
    "k[0, 0 ] = 15"
   ]
  },
  {
   "cell_type": "code",
   "execution_count": 17,
   "id": "841d8ac8-4551-4d24-b0ed-56725db81c82",
   "metadata": {},
   "outputs": [
    {
     "data": {
      "text/plain": [
       "array([[ 4.8  , 15.   ,  7.976,  8.   ],\n",
       "       [ 5.3  ,  5.   ,  7.8  ,  9.   ]])"
      ]
     },
     "execution_count": 17,
     "metadata": {},
     "output_type": "execute_result"
    }
   ],
   "source": [
    "u"
   ]
  },
  {
   "cell_type": "markdown",
   "id": "21515a3d-75b3-4904-8804-487830c1b2e7",
   "metadata": {},
   "source": [
    "## As operações"
   ]
  },
  {
   "cell_type": "code",
   "execution_count": 18,
   "id": "aace12d6-6fcc-4cdb-99a2-96913c15b4af",
   "metadata": {},
   "outputs": [
    {
     "name": "stdout",
     "output_type": "stream",
     "text": [
      "[[ 6.856 17.056 10.032 10.056]\n",
      " [ 7.356  7.056  9.856 11.056]]\n"
     ]
    }
   ],
   "source": [
    "v = u + 2.056  # Adiciona 2.056 a cada elemento de u\n",
    "print(v)"
   ]
  },
  {
   "cell_type": "code",
   "execution_count": 19,
   "id": "6806a6b6-d56c-4bb2-920c-596cf0359ed5",
   "metadata": {},
   "outputs": [
    {
     "name": "stdout",
     "output_type": "stream",
     "text": [
      "[[11.656 32.056 18.008 18.056]\n",
      " [12.656 12.056 17.656 20.056]]\n"
     ]
    }
   ],
   "source": [
    "print (u + v)  # Soma elemento a elemento"
   ]
  },
  {
   "cell_type": "code",
   "execution_count": 20,
   "id": "157dacb8-4e3c-4ddc-97c7-2ffd671fac28",
   "metadata": {},
   "outputs": [
    {
     "name": "stdout",
     "output_type": "stream",
     "text": [
      "[[ 32.9088   255.84      80.015232  80.448   ]\n",
      " [ 38.9868    35.28      76.8768    99.504   ]]\n"
     ]
    }
   ],
   "source": [
    "print(u * v)  # multiplica elemento a elemento"
   ]
  },
  {
   "cell_type": "markdown",
   "id": "036328ac-adcb-4f4e-98d3-ce2108c71841",
   "metadata": {},
   "source": [
    "Lá na matemática, na álgebra linar, **o produto de matrizes não é definido como acima**. \n",
    "\n",
    "Observe em [Mundo Educaçao](https://mundoeducacao.uol.com.br/matematica/multiplicacao-matrizes.htm), uma explicação bem fácil sobre o produto de matrizes.\n",
    "\n",
    "![](https://static.mundoeducacao.uol.com.br/mundoeducacao/2023/11/multiplicacao-de-duas-matrizes.png)"
   ]
  },
  {
   "cell_type": "code",
   "execution_count": 21,
   "id": "3d2c0876-4f34-420f-a6d7-8cb9da5ee712",
   "metadata": {},
   "outputs": [
    {
     "data": {
      "text/plain": [
       "array([[ 4.8  , 15.   ,  7.976,  8.   ],\n",
       "       [ 5.3  ,  5.   ,  7.8  ,  9.   ]])"
      ]
     },
     "execution_count": 21,
     "metadata": {},
     "output_type": "execute_result"
    }
   ],
   "source": [
    "u"
   ]
  },
  {
   "cell_type": "code",
   "execution_count": 22,
   "id": "48910bab-a798-4421-ad80-20510bccf1f6",
   "metadata": {},
   "outputs": [
    {
     "data": {
      "text/plain": [
       "array([[ 6.856, 17.056, 10.032, 10.056],\n",
       "       [ 7.356,  7.056,  9.856, 11.056]])"
      ]
     },
     "execution_count": 22,
     "metadata": {},
     "output_type": "execute_result"
    }
   ],
   "source": [
    "v"
   ]
  },
  {
   "cell_type": "code",
   "execution_count": 23,
   "id": "71e6c5c2-7815-4977-93ad-933d20f51fb3",
   "metadata": {},
   "outputs": [
    {
     "data": {
      "text/plain": [
       "(2, 4)"
      ]
     },
     "execution_count": 23,
     "metadata": {},
     "output_type": "execute_result"
    }
   ],
   "source": [
    "u.shape"
   ]
  },
  {
   "cell_type": "code",
   "execution_count": 24,
   "id": "353b6164-e629-4175-97be-03f331631f2b",
   "metadata": {},
   "outputs": [
    {
     "data": {
      "text/plain": [
       "(2, 4)"
      ]
     },
     "execution_count": 24,
     "metadata": {},
     "output_type": "execute_result"
    }
   ],
   "source": [
    "v.shape"
   ]
  },
  {
   "cell_type": "markdown",
   "id": "8c1d60f9-553b-43d0-95da-f366fa3a4978",
   "metadata": {},
   "source": [
    "Observe que as dimensões de $u$ e $v$ não são compatíveis com o produto matricial.\n",
    "Mas $u$ . $v^T$ é possível."
   ]
  },
  {
   "cell_type": "markdown",
   "id": "09705066-f00b-45e8-8d7c-c71a6616f880",
   "metadata": {},
   "source": [
    "Para fazer o produto matricial usaremos o **np.dot**"
   ]
  },
  {
   "cell_type": "code",
   "execution_count": 25,
   "id": "55c1d29f-16c7-437b-95f4-f13492c20dba",
   "metadata": {},
   "outputs": [
    {
     "data": {
      "text/plain": [
       "array([[449.212032, 308.208256],\n",
       "       [290.3704  , 250.6476  ]])"
      ]
     },
     "execution_count": 25,
     "metadata": {},
     "output_type": "execute_result"
    }
   ],
   "source": [
    "produto = np.dot(u, v.T)\n",
    "produto"
   ]
  },
  {
   "cell_type": "code",
   "execution_count": 26,
   "id": "0d604a26-1475-4235-bb75-43e70ad5baf9",
   "metadata": {},
   "outputs": [
    {
     "data": {
      "text/plain": [
       "(2, 2)"
      ]
     },
     "execution_count": 26,
     "metadata": {},
     "output_type": "execute_result"
    }
   ],
   "source": [
    "produto.shape"
   ]
  },
  {
   "cell_type": "markdown",
   "id": "165d44e9-d904-454e-8580-69442ae1f0fc",
   "metadata": {},
   "source": [
    "Observe: $u(2 ,4). v^{t}(4, 2) ===>  produto(2, 2)$"
   ]
  },
  {
   "cell_type": "code",
   "execution_count": 27,
   "id": "851a1509-998d-4e38-81c1-900cba73485f",
   "metadata": {},
   "outputs": [
    {
     "name": "stdout",
     "output_type": "stream",
     "text": [
      "[[1. 0. 0. 0. 0.]\n",
      " [0. 1. 0. 0. 0.]\n",
      " [0. 0. 1. 0. 0.]\n",
      " [0. 0. 0. 1. 0.]\n",
      " [0. 0. 0. 0. 1.]]\n"
     ]
    }
   ],
   "source": [
    "matriz_identidade = np.eye(5)\n",
    "print(matriz_identidade)"
   ]
  },
  {
   "cell_type": "code",
   "execution_count": 28,
   "id": "a048530b-5f72-49b3-ac31-08c015d2d92e",
   "metadata": {},
   "outputs": [
    {
     "name": "stdout",
     "output_type": "stream",
     "text": [
      "[1. 1. 1.]\n"
     ]
    }
   ],
   "source": [
    "matriz_uns = np.ones(3)\n",
    "print(matriz_uns)"
   ]
  },
  {
   "cell_type": "code",
   "execution_count": 29,
   "id": "ffbd4084-5607-40c2-afd3-d470cf5f4ab7",
   "metadata": {},
   "outputs": [
    {
     "name": "stdout",
     "output_type": "stream",
     "text": [
      "[0. 0. 0.]\n"
     ]
    }
   ],
   "source": [
    "matriz_zeros = np.zeros(3)\n",
    "print(matriz_zeros)"
   ]
  },
  {
   "cell_type": "code",
   "execution_count": 30,
   "id": "3caa76ed-752d-4d71-b13b-4ecd5b87f67a",
   "metadata": {},
   "outputs": [
    {
     "name": "stdout",
     "output_type": "stream",
     "text": [
      "[4.8 5.3]\n"
     ]
    }
   ],
   "source": [
    "matriz_vazia = np.empty(2)\n",
    "print(matriz_vazia)"
   ]
  },
  {
   "cell_type": "markdown",
   "id": "a701b703-33b9-4981-90c7-7d88adca9970",
   "metadata": {},
   "source": [
    "**Atenção!** A função **empty** cria um array cujo conteúdo inicial é aleatório e depende do estado da memória."
   ]
  },
  {
   "cell_type": "markdown",
   "id": "3ad666d4-c7dd-4744-be87-6c995dabe0bf",
   "metadata": {},
   "source": [
    "## Exercício\n",
    "\n",
    "- Seja: $A\\ =\\left[\\begin{matrix}1&2\\\\0&1\\\\\\end{matrix}\\right]$ que satisfaz: $A^2=aA+bI$.\n",
    "\n",
    "$I$ é a matriz identidade $(2 \\times 2)$. \n",
    "\n",
    "a e b são números reais. \n",
    "\n",
    "Calcule o produto $a \\times b$\n"
   ]
  },
  {
   "cell_type": "markdown",
   "id": "473ac629-06ad-4a64-9584-fc182365d0a4",
   "metadata": {},
   "source": [
    "Seja a matriz $M\\ =\\left[\\begin{matrix}1 & 2 & 12 \\\\0 & 1 & 13 \\\\\n",
    "11 & 5 & 2\\\\\\end{matrix}\\right]$\n",
    "\n",
    "Vamos fazer um função chamada **soma_par** que determine a soma dos elementos pares dessa matriz.\n",
    "\n",
    "**O que é uma função?**\n",
    "\n",
    "Contéudo criado por IA:\n",
    "\n",
    "Em Python, uma função é um bloco de código que realiza uma tarefa específica. As funções são úteis para organizar e reutilizar código, tornando-o mais legível, eficiente, e facilitando a manutenção e o teste. \n",
    "\n",
    "**Como criar funções em Python?**\n",
    "\n",
    "- Use a palavra-chave def\n",
    "- Siga com o nome da função\n",
    "- Inclua parênteses\n",
    "- Opcionalmente, inclua uma lista de parâmetros entre parênteses\n",
    "- Termine o cabeçalho da função com dois pontos\n",
    "- Inclua o corpo da função, que é uma sequência de sentenças que executam uma operação\n",
    "- Opcionalmente, adicione a palavra reservada **return** para devolver um resultado\n"
   ]
  },
  {
   "cell_type": "code",
   "execution_count": 31,
   "id": "7f79cad6-2d41-45fd-82d3-3ae51b083e51",
   "metadata": {},
   "outputs": [],
   "source": [
    "def soma_par(matriz):\n",
    "    linhas = matriz.shape[0]\n",
    "    colunas = matriz.shape[1]\n",
    "    soma = 0.0\n",
    "    for i in range(linhas): \n",
    "        for j in range(colunas):\n",
    "            if matriz[i, j] % 2 == 0:\n",
    "                soma += matriz[i, j]\n",
    "    return(soma)               "
   ]
  },
  {
   "cell_type": "markdown",
   "id": "0a7b6db4-094c-42ba-b2f3-561307dec6dd",
   "metadata": {},
   "source": [
    "## Gráfico de dispersão XY\n",
    "\n",
    "Vejamos o conceito na [wikpédia](https://pt.wikipedia.org/wiki/Gr%C3%A1fico_de_dispers%C3%A3o)."
   ]
  },
  {
   "cell_type": "markdown",
   "id": "8daf9eed-b293-46f0-8f4d-11e17b1d82b7",
   "metadata": {},
   "source": [
    "Vamos usar a biblioteca **MatplotLib**, então, devemos **importá-la**!"
   ]
  },
  {
   "cell_type": "code",
   "execution_count": 32,
   "id": "632498f2-b988-4178-96a8-12756d653973",
   "metadata": {},
   "outputs": [],
   "source": [
    " import matplotlib.pyplot as plt"
   ]
  },
  {
   "cell_type": "markdown",
   "id": "ed084952-6967-4c42-b346-088f310e50ce",
   "metadata": {},
   "source": [
    "Façamos o  gráfico de $f(x) = x^3 - 5x^2 + 8x - 4$ no intervalo $[-20, 20]$."
   ]
  },
  {
   "cell_type": "markdown",
   "id": "a3e374b1-d716-4b4b-abb7-3f6e12b7a542",
   "metadata": {},
   "source": [
    "Criando os pontos no  eixo $x$: "
   ]
  },
  {
   "cell_type": "code",
   "execution_count": 33,
   "id": "86301991-7bb8-4454-bcc7-ce4ea856eb4d",
   "metadata": {},
   "outputs": [],
   "source": [
    "x = np.linspace(-20, 20, 5)"
   ]
  },
  {
   "cell_type": "code",
   "execution_count": 34,
   "id": "58599d7b-28d4-4528-9021-3239c96e3117",
   "metadata": {},
   "outputs": [
    {
     "name": "stdout",
     "output_type": "stream",
     "text": [
      "[-20. -10.   0.  10.  20.]\n"
     ]
    }
   ],
   "source": [
    "print(x)"
   ]
  },
  {
   "cell_type": "markdown",
   "id": "98323a83-74a4-41af-8510-84975d8fb8ae",
   "metadata": {},
   "source": [
    "Calculando o valor de $y$ para cada valo de $x$:"
   ]
  },
  {
   "cell_type": "code",
   "execution_count": 35,
   "id": "62fdb0ed-1adf-47f7-a927-dd59e76547ed",
   "metadata": {},
   "outputs": [
    {
     "name": "stdout",
     "output_type": "stream",
     "text": [
      "[-1.0164e+04 -1.5840e+03 -4.0000e+00  5.7600e+02  6.1560e+03]\n"
     ]
    }
   ],
   "source": [
    "y = x**3 - 5 * x**2 + 8 * x - 4\n",
    "print(y)"
   ]
  },
  {
   "cell_type": "markdown",
   "id": "ac009ff9-db0e-4d91-9fd9-f70ef046cd92",
   "metadata": {},
   "source": [
    "Traçando o gráfico:"
   ]
  },
  {
   "cell_type": "markdown",
   "id": "a34f4c76-8ca5-4647-a670-d3093d698a94",
   "metadata": {},
   "source": [
    "- Título do gráfico:"
   ]
  },
  {
   "cell_type": "code",
   "execution_count": 36,
   "id": "ecb9336f-8e07-4c6a-a49c-f090adb13cf3",
   "metadata": {},
   "outputs": [
    {
     "data": {
      "text/plain": [
       "Text(0.5, 1.0, 'Gráfico da função $f(x) = x^3 - 5x^2 + 8x - 4$')"
      ]
     },
     "execution_count": 36,
     "metadata": {},
     "output_type": "execute_result"
    },
    {
     "data": {
      "image/png": "[encoded data removed]",
      "text/plain": [
       "<Figure size 640x480 with 1 Axes>"
      ]
     },
     "metadata": {},
     "output_type": "display_data"
    }
   ],
   "source": [
    "plt.title(\"Gráfico da função $f(x) = x^3 - 5x^2 + 8x - 4$\")"
   ]
  },
  {
   "cell_type": "markdown",
   "id": "e5db1805-ad20-42fc-9733-461de1ca337d",
   "metadata": {},
   "source": [
    "Nome dos eixos:"
   ]
  },
  {
   "cell_type": "code",
   "execution_count": 37,
   "id": "bfad1ee7-9926-47a0-86a3-98d05721e712",
   "metadata": {},
   "outputs": [
    {
     "data": {
      "text/plain": [
       "Text(0, 0.5, 'f(x)')"
      ]
     },
     "execution_count": 37,
     "metadata": {},
     "output_type": "execute_result"
    },
    {
     "data": {
      "image/png": "[encoded data removed]",
      "text/plain": [
       "<Figure size 640x480 with 1 Axes>"
      ]
     },
     "metadata": {},
     "output_type": "display_data"
    }
   ],
   "source": [
    "plt.xlabel(\"x\")\n",
    "plt.ylabel(\"f(x)\")"
   ]
  },
  {
   "cell_type": "markdown",
   "id": "81dcb566-0305-4376-af1b-a163b5970b12",
   "metadata": {},
   "source": [
    "Acrescentando um quadriculado na área do gráfico:"
   ]
  },
  {
   "cell_type": "code",
   "execution_count": 38,
   "id": "5732c4e7-d270-4095-865f-5d041d967ca9",
   "metadata": {},
   "outputs": [
    {
     "data": {
      "image/png": "[encoded data removed]",
      "text/plain": [
       "<Figure size 640x480 with 1 Axes>"
      ]
     },
     "metadata": {},
     "output_type": "display_data"
    }
   ],
   "source": [
    "plt.grid(True)"
   ]
  },
  {
   "cell_type": "markdown",
   "id": "8f5071ea-59a7-4d6c-8b19-6a31561b0b3b",
   "metadata": {},
   "source": [
    "Finalmente, traçando:"
   ]
  },
  {
   "cell_type": "code",
   "execution_count": 39,
   "id": "c3bd9ffc-4244-47ec-8f1e-ec73bb248d51",
   "metadata": {},
   "outputs": [
    {
     "data": {
      "text/plain": [
       "[<matplotlib.lines.Line2D at 0x7066798f0f20>]"
      ]
     },
     "execution_count": 39,
     "metadata": {},
     "output_type": "execute_result"
    },
    {
     "data": {
      "image/png": "[encoded data removed]",
      "text/plain": [
       "<Figure size 640x480 with 1 Axes>"
      ]
     },
     "metadata": {},
     "output_type": "display_data"
    }
   ],
   "source": [
    "plt.plot(x, y)"
   ]
  },
  {
   "cell_type": "code",
   "execution_count": 40,
   "id": "6fa8ac5e-7e45-4d00-9a84-383ebcfd1658",
   "metadata": {},
   "outputs": [
    {
     "data": {
      "image/png": "[encoded data removed]",
      "text/plain": [
       "<Figure size 640x480 with 1 Axes>"
      ]
     },
     "metadata": {},
     "output_type": "display_data"
    }
   ],
   "source": [
    "plt.title(\"Gráfico da função $f(x) = x^3 - 5x^2 + 8x - 4$\")\n",
    "plt.xlabel(\"x\")\n",
    "plt.ylabel(\"f(x)\")\n",
    "plt.grid(True)\n",
    "plt.plot(x, y)\n",
    "plt.show()"
   ]
  },
  {
   "cell_type": "markdown",
   "id": "6c621d0f-53a9-4bdb-8408-e92d7e99b22a",
   "metadata": {},
   "source": [
    "Esse gráfico está bem ruim! Melhorando:"
   ]
  },
  {
   "cell_type": "code",
   "execution_count": 41,
   "id": "67487110-48f1-4a1b-8331-c1627ce2724a",
   "metadata": {},
   "outputs": [
    {
     "data": {
      "text/plain": [
       "[<matplotlib.lines.Line2D at 0x7066792d6cf0>]"
      ]
     },
     "execution_count": 41,
     "metadata": {},
     "output_type": "execute_result"
    },
    {
     "data": {
      "image/png": "[encoded data removed]",
      "text/plain": [
       "<Figure size 640x480 with 1 Axes>"
      ]
     },
     "metadata": {},
     "output_type": "display_data"
    }
   ],
   "source": [
    "x = np.linspace(-20, 20, 50)\n",
    "y = x**3 - 5 * x**2 + 8 * x - 4\n",
    "plt.title(\"Gráfico da função $f(x) = x^3 - 5x^2 + 8x - 4$\")\n",
    "plt.xlabel(\"x\")\n",
    "plt.ylabel(\"f(x)\")\n",
    "plt.grid(True)\n",
    "plt.plot(x, y)"
   ]
  },
  {
   "cell_type": "markdown",
   "id": "4fc0b8cb-ac90-4e6d-a4e0-8d2a830f129b",
   "metadata": {},
   "source": [
    "Agora, sim!!"
   ]
  },
  {
   "cell_type": "markdown",
   "id": "824a39ee-e673-41e8-83a0-8258fbd2ff18",
   "metadata": {},
   "source": [
    "Faça uma rotina que traçe o gráfico de uma função dada."
   ]
  },
  {
   "cell_type": "code",
   "execution_count": null,
   "id": "ae3a5955-565a-4cdd-9941-fec056ab31be",
   "metadata": {},
   "outputs": [],
   "source": []
  }
 ],
 "metadata": {
  "kernelspec": {
   "display_name": "Python 3",
   "language": "python",
   "name": "python3"
  },
  "language_info": {
   "codemirror_mode": {
    "name": "ipython",
    "version": 3
   },
   "file_extension": ".py",
   "mimetype": "text/x-python",
   "name": "python",
   "nbconvert_exporter": "python",
   "pygments_lexer": "ipython3",
   "version": "3.10.12"
  }
 },
 "nbformat": 4,
 "nbformat_minor": 5
}
