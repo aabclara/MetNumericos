{
 "cells": [
  {
   "cell_type": "markdown",
   "metadata": {},
   "source": [
    "## ATIVIDADE"
   ]
  },
  {
   "cell_type": "markdown",
   "metadata": {},
   "source": [
    "Implementar uma função que dado um sistema linear retorne a solução.\n",
    "- Método de eliminação de Gauss com pivotação parcial \n",
    "- Usar as matrizes elementares"
   ]
  },
  {
   "cell_type": "markdown",
   "metadata": {},
   "source": [
    "### Função de Resolução"
   ]
  },
  {
   "cell_type": "code",
   "execution_count": 16,
   "metadata": {},
   "outputs": [],
   "source": [
    "import numpy as np\n",
    "\n",
    "def sistema_gauss(matriz_aumentada):\n",
    "    num_equacoes = matriz_aumentada.shape[0]  # número de equações (e variáveis)\n",
    "    \n",
    "    if matriz_aumentada.shape[1] != num_equacoes + 1:\n",
    "        raise ValueError(\"A matriz aumentada deve ter 'n' linhas e 'n+1' colunas.\")\n",
    "\n",
    "    matriz = matriz_aumentada.astype(float)\n",
    "\n",
    "    for coluna_pivo in range(num_equacoes):\n",
    "        # encontrar a linha do pivô \n",
    "        linha_pivo_atual = coluna_pivo\n",
    "        for i in range(coluna_pivo + 1, num_equacoes):\n",
    "            if abs(matriz[i, coluna_pivo]) > abs(matriz[linha_pivo_atual, coluna_pivo]):\n",
    "                linha_pivo_atual = i\n",
    "\n",
    "        # trocar a linha atual (coluna_pivo) pela linha do pivô \n",
    "        matriz[[coluna_pivo, linha_pivo_atual]] = matriz[[linha_pivo_atual, coluna_pivo]]\n",
    "\n",
    "        # verificar se o elemento pivô é zero após a troca \n",
    "        if matriz[coluna_pivo, coluna_pivo] == 0:\n",
    "            print(f\"O sistema não possui solução única (matriz singular ou próxima a singular) na coluna {coluna_pivo}.\")\n",
    "            return None\n",
    "\n",
    "        # eliminar os elementos abaixo do pivô na coluna atual\n",
    "        for i in range(coluna_pivo + 1, num_equacoes):\n",
    "            fator = matriz[i, coluna_pivo] / matriz[coluna_pivo, coluna_pivo]\n",
    "\n",
    "            matriz[i, coluna_pivo:] -= fator * matriz[coluna_pivo, coluna_pivo:]\n",
    "\n",
    "    vetor_solucao = np.zeros(num_equacoes) \n",
    "\n",
    "    for i in range(num_equacoes - 1, -1, -1): \n",
    "        if matriz[i, i] == 0:\n",
    "            print(f\"O sistema não possui solução única (elemento diagonal zero na linha {i}).\")\n",
    "            return None\n",
    "        vetor_solucao[i] = (matriz[i, num_equacoes] - np.dot(matriz[i, i+1:num_equacoes], vetor_solucao[i+1:num_equacoes])) / matriz[i, i]\n",
    "\n",
    "    return vetor_solucao"
   ]
  },
  {
   "cell_type": "markdown",
   "metadata": {},
   "source": [
    "### Exemplo 1"
   ]
  },
  {
   "cell_type": "code",
   "execution_count": 21,
   "metadata": {},
   "outputs": [
    {
     "name": "stdout",
     "output_type": "stream",
     "text": [
      "--- Exemplo 1 ---\n",
      "Solução para o Exemplo 1:\n",
      "[ 0.31421446 -0.81795511  1.75311721  0.66583541]\n"
     ]
    }
   ],
   "source": [
    "print(\"--- Exemplo 1 ---\")\n",
    "\n",
    "matriz_aumentada_ex1 = np.array([\n",
    "    [-2, 3, 1, 5, 2],\n",
    "    [5, 1, -1, 0, -1],\n",
    "    [1, 6, 3, -1, 0],\n",
    "    [4, 5, 2, 8, 6]\n",
    "])\n",
    "\n",
    "solucao_ex1 = sistema_gauss(matriz_aumentada_ex1)\n",
    "print(\"Solução para o Exemplo 1:\")\n",
    "print(solucao_ex1)\n"
   ]
  },
  {
   "cell_type": "markdown",
   "metadata": {},
   "source": [
    "### Exemplo 2"
   ]
  },
  {
   "cell_type": "code",
   "execution_count": 24,
   "metadata": {},
   "outputs": [
    {
     "name": "stdout",
     "output_type": "stream",
     "text": [
      "\n",
      "--- Exemplo 2 ---\n",
      "Solução para o Exemplo 2:\n",
      "[ 2.34749499  4.35430862 -2.39078156 -1.76833667  2.33867735]\n"
     ]
    }
   ],
   "source": [
    "print(\"\\n--- Exemplo 2 ---\")\n",
    "matriz_aumentada_ex2 = np.array([\n",
    "    [0,  1,  3,  2,  4, 3],\n",
    "    [8, -2,  9,  -1,  2, -5],\n",
    "    [5,  1,  1,  7,  2, 6],\n",
    "    [-2,  4,  5,  1,  0, -1],\n",
    "    [7,  -3,  2,  -4,  1, 8]\n",
    "])\n",
    "\n",
    "solucao_ex2 = sistema_gauss(matriz_aumentada_ex2)\n",
    "\n",
    "print(\"Solução para o Exemplo 2:\")\n",
    "print(solucao_ex2)"
   ]
  },
  {
   "cell_type": "markdown",
   "metadata": {},
   "source": [
    "### Conferindo o resultado com o Linalg"
   ]
  },
  {
   "cell_type": "code",
   "execution_count": 26,
   "metadata": {},
   "outputs": [
    {
     "name": "stdout",
     "output_type": "stream",
     "text": [
      "[ 0.31421446 -0.81795511  1.75311721  0.66583541]\n",
      "[ 2.34749499  4.35430862 -2.39078156 -1.76833667  2.33867735]\n"
     ]
    }
   ],
   "source": [
    "matriz_ex1 = np.array([\n",
    "    [-2, 3, 1, 5],\n",
    "    [5, 1, -1, 0],\n",
    "    [1, 6, 3, -1],\n",
    "    [4, 5, 2, 8]\n",
    "])\n",
    "\n",
    "solucao_1 = np.array([2, -1, 0, 6])\n",
    "solucao_linalg1 = np.linalg.solve(matriz_ex1, solucao_1)\n",
    "print(solucao_linalg1)\n",
    "\n",
    "matriz_ex2 = np.array([\n",
    "    [0,  1,  3,  2,  4],\n",
    "    [8, -2,  9,  -1,  2],\n",
    "    [5,  1,  1,  7,  2],\n",
    "    [-2,  4,  5,  1,  0],\n",
    "    [7,  -3,  2,  -4,  1]\n",
    "])\n",
    "solucao_2 = np.array([3, -5, 6, -1, 8])\n",
    "solucao_linalg2 = np.linalg.solve(matriz_ex2, solucao_2)\n",
    "print(solucao_linalg2)"
   ]
  }
 ],
 "metadata": {
  "kernelspec": {
   "display_name": "Python 3",
   "language": "python",
   "name": "python3"
  },
  "language_info": {
   "codemirror_mode": {
    "name": "ipython",
    "version": 3
   },
   "file_extension": ".py",
   "mimetype": "text/x-python",
   "name": "python",
   "nbconvert_exporter": "python",
   "pygments_lexer": "ipython3",
   "version": "3.10.12"
  }
 },
 "nbformat": 4,
 "nbformat_minor": 2
}
