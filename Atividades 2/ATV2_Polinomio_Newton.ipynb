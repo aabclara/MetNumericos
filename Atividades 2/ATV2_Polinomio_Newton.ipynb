{
 "cells": [
  {
   "cell_type": "markdown",
   "metadata": {},
   "source": [
    "Sejam os pontos:\n",
    "\n",
    "| i | 0 | 1 |\n",
    "|---|---|---|\n",
    "| x | 0,1 | 0, 6|\n",
    "| y | 1,221 | 3,320|\n",
    "\n",
    "Calcule $P_1(0,2)$ pela fórmula de Newton "
   ]
  },
  {
   "cell_type": "code",
   "execution_count": 2,
   "metadata": {},
   "outputs": [],
   "source": [
    "import numpy as np"
   ]
  },
  {
   "cell_type": "markdown",
   "metadata": {},
   "source": [
    "### **Funções**"
   ]
  },
  {
   "cell_type": "code",
   "execution_count": 19,
   "metadata": {},
   "outputs": [],
   "source": [
    "def calcular_diferencas_divididas(pontos_x, pontos_y):\n",
    "    num_pontos = len(pontos_x)\n",
    "    tabela_dd = [[0.0 for _ in range(num_pontos)] for _ in range(num_pontos)]\n",
    "\n",
    "    for i in range(num_pontos):\n",
    "        tabela_dd[i][0] = pontos_y[i]\n",
    "\n",
    "    for j in range(1, num_pontos):\n",
    "        for i in range(num_pontos - j):\n",
    "            numerador = tabela_dd[i+1][j-1] - tabela_dd[i][j-1]\n",
    "            denominador = pontos_x[i+j] - pontos_x[i]\n",
    "            \n",
    "            if denominador == 0:\n",
    "                raise ValueError(\"Pontos x repetidos encontrados, impossível calcular diferenças divididas.\")\n",
    "            \n",
    "            tabela_dd[i][j] = numerador / denominador\n",
    "            \n",
    "    return tabela_dd\n",
    "\n",
    "def interpolar_polinomio_newton(x_para_calcular, pontos_x, pontos_y):\n",
    "    num_pontos = len(pontos_x)\n",
    "    if num_pontos == 0:\n",
    "        print(\"Erro: Não há pontos para realizar a interpolação.\")\n",
    "        return None\n",
    "\n",
    "    tabela_dd = calcular_diferencas_divididas(pontos_x, pontos_y)\n",
    "\n",
    "    coeficientes = [tabela_dd[0][j] for j in range(num_pontos)]\n",
    "\n",
    "    polinomio_valor = coeficientes[0]\n",
    "    termo_multiplicador = 1.0\n",
    "\n",
    "    for i in range(1, num_pontos):\n",
    "        termo_multiplicador *= (x_para_calcular - pontos_x[i-1])\n",
    "        polinomio_valor += coeficientes[i] * termo_multiplicador\n",
    "\n",
    "    return polinomio_valor"
   ]
  },
  {
   "cell_type": "code",
   "execution_count": 22,
   "metadata": {},
   "outputs": [
    {
     "name": "stdout",
     "output_type": "stream",
     "text": [
      "O valor de P1(0.2) calculado com a função genérica de Newton é: 1.641\n"
     ]
    }
   ],
   "source": [
    "x1 = [0.1, 0.6]\n",
    "y2 = [1.221, 3.320]\n",
    "\n",
    "p1 = 0.2\n",
    "\n",
    "resultado_p1 = interpolar_polinomio_newton(p1, x1, y2)\n",
    "\n",
    "print(f\"O valor de P1({p1}) calculado com a função genérica de Newton é: {resultado_p1:.3f}\")"
   ]
  },
  {
   "cell_type": "code",
   "execution_count": 23,
   "metadata": {},
   "outputs": [
    {
     "name": "stdout",
     "output_type": "stream",
     "text": [
      "O valor de P2(1.2) pela fórmula de Newton é: 2.627\n"
     ]
    }
   ],
   "source": [
    "x2 = [0.9, 1.1, 2.0]\n",
    "y2 = [3.211, 2.809, 1.614]\n",
    "\n",
    "p2 = 1.2\n",
    "\n",
    "resultado_p2 = interpolar_polinomio_newton(p2, x2, y2)\n",
    "\n",
    "print(f\"O valor de P2({p2}) pela fórmula de Newton é: {resultado_p2:.3f}\")"
   ]
  },
  {
   "cell_type": "markdown",
   "metadata": {},
   "source": [
    "### Dados 2"
   ]
  },
  {
   "cell_type": "code",
   "execution_count": 25,
   "metadata": {},
   "outputs": [],
   "source": [
    "def calcular_diferencas_divididas(pontos_x, pontos_y):\n",
    "    num_pontos = len(pontos_x)\n",
    "\n",
    "    tabela_dd = [[float('nan') for _ in range(num_pontos)] for _ in range(num_pontos)]\n",
    "\n",
    "    for i in range(num_pontos):\n",
    "        tabela_dd[i][0] = pontos_y[i]\n",
    "\n",
    "    for j in range(1, num_pontos): \n",
    "        for i in range(num_pontos - j): \n",
    "            numerador = tabela_dd[i+1][j-1] - tabela_dd[i][j-1]\n",
    "            denominador = pontos_x[i+j] - pontos_x[i]\n",
    "            \n",
    "            if denominador == 0:\n",
    "                raise ValueError(\"Pontos x repetidos encontrados, impossível calcular diferenças divididas.\")\n",
    "            \n",
    "            tabela_dd[i][j] = numerador / denominador\n",
    "            \n",
    "    return tabela_dd"
   ]
  },
  {
   "cell_type": "code",
   "execution_count": 33,
   "metadata": {},
   "outputs": [
    {
     "name": "stdout",
     "output_type": "stream",
     "text": [
      "Tabela de Diferenças Divididas de Newton:\n",
      "i   | xi     | yi      | Dyi          | D^2yi       \n",
      "0.000 | 0.900 | 3.211 | -2.010 | 0.62020202  \n",
      "1.000 | 1.100 | 2.809 | -1.328 |             \n",
      "2.000 | 2.000 | 1.614 |  |             \n"
     ]
    }
   ],
   "source": [
    "pontos_x = [0.9, 1.1, 2.0]\n",
    "pontos_y = [3.211, 2.809, 1.614]\n",
    "\n",
    "tabela_completa = calcular_diferencas_divididas(pontos_x, pontos_y)\n",
    "\n",
    "# Imprimir a tabela formatada\n",
    "print(\"Tabela de Diferenças Divididas de Newton:\")\n",
    "print(f\"{'i':<3} | {'xi':<6} | {'yi':<7} | {'Dyi':<12} | {'D^2yi':<12}\")\n",
    "\n",
    "num_pontos = len(pontos_x)\n",
    "for i in range(num_pontos):\n",
    "    linha_saida = f\"{i:.3f} | {pontos_x[i]:.3f} | {pontos_y[i]:.3f} | \"\n",
    "    \n",
    "    if i < num_pontos - 1: \n",
    "        linha_saida += f\"{tabela_completa[i][1]:.3f} | \"\n",
    "    else:\n",
    "        linha_saida += f\"{''} | \" \n",
    "\n",
    "    if i < num_pontos - 2: \n",
    "        linha_saida += f\"{tabela_completa[i][2]:<12.8f}\"\n",
    "    else:\n",
    "        linha_saida += f\"{'':<12}\" \n",
    "    \n",
    "    print(linha_saida)\n"
   ]
  },
  {
   "cell_type": "code",
   "execution_count": null,
   "metadata": {},
   "outputs": [],
   "source": []
  }
 ],
 "metadata": {
  "kernelspec": {
   "display_name": "Python 3",
   "language": "python",
   "name": "python3"
  },
  "language_info": {
   "codemirror_mode": {
    "name": "ipython",
    "version": 3
   },
   "file_extension": ".py",
   "mimetype": "text/x-python",
   "name": "python",
   "nbconvert_exporter": "python",
   "pygments_lexer": "ipython3",
   "version": "3.10.12"
  }
 },
 "nbformat": 4,
 "nbformat_minor": 2
}
